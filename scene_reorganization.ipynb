{
  "nbformat": 4,
  "nbformat_minor": 0,
  "metadata": {
    "colab": {
      "name": "scene-reorganization.ipynb",
      "version": "0.3.2",
      "provenance": [],
      "toc_visible": true,
      "include_colab_link": true
    },
    "kernelspec": {
      "name": "python3",
      "display_name": "Python 3"
    },
    "accelerator": "GPU"
  },
  "cells": [
    {
      "cell_type": "markdown",
      "metadata": {
        "id": "view-in-github",
        "colab_type": "text"
      },
      "source": [
        "<a href=\"https://colab.research.google.com/github/SMAHAM/Scene-Recognization/blob/master/scene_reorganization.ipynb\" target=\"_parent\"><img src=\"https://colab.research.google.com/assets/colab-badge.svg\" alt=\"Open In Colab\"/></a>"
      ]
    },
    {
      "cell_type": "markdown",
      "metadata": {
        "id": "l8j6uzl9V9Xz",
        "colab_type": "text"
      },
      "source": [
        "# Multimodal scene reorganization for audio Categorization"
      ]
    },
    {
      "cell_type": "markdown",
      "metadata": {
        "id": "8kWcY7Zc8uuF",
        "colab_type": "text"
      },
      "source": [
        "## Stats\n",
        "\n",
        "### Number of classes = 10\n",
        "\n",
        "\n",
        "```\n",
        "class_labels=[\n",
        "'air_conditioner',\n",
        "'car_horn',\n",
        "'children_playing',\n",
        "'dog_bark',\n",
        "'drilling',\n",
        "'engine_idling',\n",
        "'gun_shot',\n",
        "'jackhammer',\n",
        "'siren',\n",
        "'street_music'\n",
        "]\n",
        "```\n",
        "\n",
        "\n",
        "### Number of files in total\n",
        "\n",
        "\n",
        "```\n",
        "   1302 json\n",
        "   1302 csv\n",
        "    925 wav\n",
        "    181 mp3\n",
        "    106 flac\n",
        "     58 aif\n",
        "     28 aiff\n",
        "      4 ogg\n",
        "```\n",
        "\n",
        "---\n",
        "\n",
        "### air_conditioner\n",
        "\n",
        "```\n",
        "     64 json\n",
        "     64 csv\n",
        "     39 wav\n",
        "     12 flac\n",
        "     10 mp3\n",
        "     2 aif\n",
        "     1 aiff\n",
        "```\n",
        "\n",
        "---\n",
        "### car_horn\n",
        "\n",
        "```\n",
        "    125 json\n",
        "    125 csv\n",
        "    104 wav\n",
        "     11 mp3\n",
        "      4 flac\n",
        "      3 aiff\n",
        "      2 aif\n",
        "      1 ogg\n",
        "```\n",
        "\n",
        "---\n",
        "### children_playing\n",
        "```\n",
        "    158 json\n",
        "    158 csv\n",
        "    121 wav\n",
        "     16 mp3\n",
        "      9 aif\n",
        "      6 flac\n",
        "      5 aiff\n",
        "      1 ogg\n",
        "```\n",
        "---\n",
        "### dog_bark\n",
        "\n",
        "```\n",
        "    337 json\n",
        "    337 csv\n",
        "    221 wav\n",
        "     54 mp3\n",
        "     37 flac\n",
        "     16 aif\n",
        "      8 aiff\n",
        "      1 ogg\n",
        "```\n",
        "---\n",
        "### drilling\n",
        "```\n",
        "    119 json\n",
        "    119 csv\n",
        "     88 wav\n",
        "     12 flac\n",
        "     11 mp3\n",
        "      5 aiff\n",
        "      3 aif\n",
        "```\n",
        "---\n",
        "### engine_idling\n",
        "```\n",
        "     97 json\n",
        "     97 csv\n",
        "     67 wav\n",
        "     10 mp3\n",
        "      9 flac\n",
        "      9 aif\n",
        "      2 aiff\n",
        "```\n",
        "---\n",
        "### gun_shot\n",
        "```\n",
        "    117 json\n",
        "    117 csv\n",
        "     94 wav\n",
        "     17 mp3\n",
        "      4 flac\n",
        "      2 aif\n",
        "```\n",
        "---\n",
        "### jackhammer\n",
        "```\n",
        "     45 json\n",
        "     45 csv\n",
        "     31 wav\n",
        "      7 flac\n",
        "      4 aif\n",
        "      2 mp3\n",
        "      1 aiff\n",
        "```\n",
        "---\n",
        "### siren\n",
        "```\n",
        "     74 json\n",
        "     74 csv\n",
        "     60 wav\n",
        "      7 aif\n",
        "      5 mp3\n",
        "      1 ogg\n",
        "      1 flac\n",
        "```\n",
        "---\n",
        "### street_music\n",
        "```\n",
        "    166 json\n",
        "    166 csv\n",
        "    100 wav\n",
        "     45 mp3\n",
        "     14 flac\n",
        "      4 aif\n",
        "      3 aiff\n",
        " ```"
      ]
    },
    {
      "cell_type": "code",
      "metadata": {
        "id": "kxMTIspnD0TP",
        "colab_type": "code",
        "colab": {}
      },
      "source": [
        "#to find stats\n",
        "#!find ./ -type f | rev | cut -d. -f1 | rev  | tr '[:upper:]' '[:lower:]' | sort | uniq --count | sort -rn\n",
        "#number of files in a directory\n",
        "#ls -q | wc -l"
      ],
      "execution_count": 0,
      "outputs": []
    },
    {
      "cell_type": "code",
      "metadata": {
        "id": "FzAlTCmo9PEE",
        "colab_type": "code",
        "colab": {}
      },
      "source": [
        "#list of labels\n",
        "class_labels=[\n",
        "'air_conditioner',\n",
        "'car_horn',\n",
        "'children_playing',\n",
        "'dog_bark',\n",
        "'drilling',\n",
        "'engine_idling',\n",
        "'gun_shot',\n",
        "'jackhammer',\n",
        "'siren',\n",
        "'street_music'\n",
        "]"
      ],
      "execution_count": 0,
      "outputs": []
    },
    {
      "cell_type": "markdown",
      "metadata": {
        "id": "MTiKHnZEQcpc",
        "colab_type": "text"
      },
      "source": [
        "# Installation of required librearies"
      ]
    },
    {
      "cell_type": "code",
      "metadata": {
        "id": "gEA0kHBsQg3S",
        "colab_type": "code",
        "outputId": "5318addf-da62-4045-aee7-8eaa0ad6398b",
        "colab": {
          "base_uri": "https://localhost:8080/",
          "height": 326
        }
      },
      "source": [
        "#apt install axel\n",
        "!pip3 install librosa\n",
        "!pip install download"
      ],
      "execution_count": 3,
      "outputs": [
        {
          "output_type": "stream",
          "text": [
            "Requirement already satisfied: librosa in /usr/local/lib/python3.6/dist-packages (0.6.3)\n",
            "Requirement already satisfied: scikit-learn!=0.19.0,>=0.14.0 in /usr/local/lib/python3.6/dist-packages (from librosa) (0.21.2)\n",
            "Requirement already satisfied: joblib>=0.12 in /usr/local/lib/python3.6/dist-packages (from librosa) (0.13.2)\n",
            "Requirement already satisfied: numpy>=1.8.0 in /usr/local/lib/python3.6/dist-packages (from librosa) (1.16.4)\n",
            "Requirement already satisfied: six>=1.3 in /usr/local/lib/python3.6/dist-packages (from librosa) (1.12.0)\n",
            "Requirement already satisfied: scipy>=1.0.0 in /usr/local/lib/python3.6/dist-packages (from librosa) (1.3.0)\n",
            "Requirement already satisfied: decorator>=3.0.0 in /usr/local/lib/python3.6/dist-packages (from librosa) (4.4.0)\n",
            "Requirement already satisfied: audioread>=2.0.0 in /usr/local/lib/python3.6/dist-packages (from librosa) (2.1.8)\n",
            "Requirement already satisfied: resampy>=0.2.0 in /usr/local/lib/python3.6/dist-packages (from librosa) (0.2.1)\n",
            "Requirement already satisfied: numba>=0.38.0 in /usr/local/lib/python3.6/dist-packages (from librosa) (0.40.1)\n",
            "Requirement already satisfied: llvmlite>=0.25.0dev0 in /usr/local/lib/python3.6/dist-packages (from numba>=0.38.0->librosa) (0.29.0)\n",
            "Collecting download\n",
            "  Downloading https://files.pythonhosted.org/packages/c2/79/d88026ed8be2da42437023fb30e5401c8e23410a773f37d283c07844e350/download-0.3.3-py2.py3-none-any.whl\n",
            "Requirement already satisfied: six in /usr/local/lib/python3.6/dist-packages (from download) (1.12.0)\n",
            "Requirement already satisfied: tqdm in /usr/local/lib/python3.6/dist-packages (from download) (4.28.1)\n",
            "Installing collected packages: download\n",
            "Successfully installed download-0.3.3\n"
          ],
          "name": "stdout"
        }
      ]
    },
    {
      "cell_type": "markdown",
      "metadata": {
        "id": "E6_8Ok_ly58M",
        "colab_type": "text"
      },
      "source": [
        "# Import Libraries"
      ]
    },
    {
      "cell_type": "code",
      "metadata": {
        "id": "f-tquOVky5jX",
        "colab_type": "code",
        "colab": {}
      },
      "source": [
        "import matplotlib.pyplot as plt\n",
        "import librosa\n",
        "import librosa.display\n",
        "import numpy as np\n",
        "import pandas as pd\n",
        "from PIL import Image\n",
        "%matplotlib inline\n",
        "# For plotting headlessly\n",
        "from matplotlib.backends.backend_agg import FigureCanvasAgg as FigureCanvas\n",
        "from download import download"
      ],
      "execution_count": 0,
      "outputs": []
    },
    {
      "cell_type": "code",
      "metadata": {
        "id": "Ogg-HLb-Hbar",
        "colab_type": "code",
        "colab": {}
      },
      "source": [
        "#connecting to drive\n",
        "#from google.colab import drive\n",
        "#drive.mount('/content/gdrive')\n",
        "#Store the sampling rate as `sr`\n",
        "#sr = 44100\n",
        "# ---Set the hop length; at 22050 Hz, 512 samples ~= 23ms\n",
        "#hop_length = 512"
      ],
      "execution_count": 0,
      "outputs": []
    },
    {
      "cell_type": "markdown",
      "metadata": {
        "id": "hghTrR7TCch1",
        "colab_type": "text"
      },
      "source": [
        "# File downloader"
      ]
    },
    {
      "cell_type": "code",
      "metadata": {
        "id": "ikfPIWSBChOG",
        "colab_type": "code",
        "colab": {
          "base_uri": "https://localhost:8080/",
          "height": 734
        },
        "outputId": "695e48f1-e86a-4ede-eb8b-4215344e8905"
      },
      "source": [
        "#whole dataset\n",
        "#!axel -n 10 https://zenodo.org/record/1206938/files/UrbanSound.tar.gz\n",
        "\n",
        "url = 'https://github.com/SMAHAM/Scene-Recognization/blob/master/UrbanSound_data/air_conditioner/13230.mp3'\n",
        "download(url,'./'+url.rsplit('/', 1)[-1])\n",
        "url = 'https://github.com/SMAHAM/Scene-Recognization/blob/master/UrbanSound_data/car_horn/2937.wav'\n",
        "download(url,'./'+url.rsplit('/', 1)[-1])\n",
        "url = 'https://github.com/SMAHAM/Scene-Recognization/blob/master/UrbanSound_data/children_playing/13579.mp3'\n",
        "download(url,'./'+url.rsplit('/', 1)[-1])\n",
        "url = 'https://github.com/SMAHAM/Scene-Recognization/blob/master/UrbanSound_data/dog_bark/344.wav'\n",
        "download(url,'./'+url.rsplit('/', 1)[-1])\n",
        "url = 'https://github.com/SMAHAM/Scene-Recognization/blob/master/UrbanSound_data/drilling/518.wav'\n",
        "download(url,'./'+url.rsplit('/', 1)[-1])\n",
        "url = 'https://github.com/SMAHAM/Scene-Recognization/blob/master/UrbanSound_data/engine_idling/6988.mp3'\n",
        "download(url,'./'+url.rsplit('/', 1)[-1])\n",
        "url = 'https://github.com/SMAHAM/Scene-Recognization/blob/master/UrbanSound_data/gun_shot/7060.wav'\n",
        "download(url,'./'+url.rsplit('/', 1)[-1])\n",
        "url = 'https://github.com/SMAHAM/Scene-Recognization/blob/master/UrbanSound_data/jackhammer/24728.wav'\n",
        "download(url,'./'+url.rsplit('/', 1)[-1])\n",
        "url = 'https://github.com/SMAHAM/Scene-Recognization/blob/master/UrbanSound_data/siren/16772.wav'\n",
        "download(url,'./'+url.rsplit('/', 1)[-1])\n",
        "url = 'https://github.com/SMAHAM/Scene-Recognization/blob/master/UrbanSound_data/street_music/6508.mp3'\n",
        "download(url,'./'+url.rsplit('/', 1)[-1])"
      ],
      "execution_count": 6,
      "outputs": [
        {
          "output_type": "stream",
          "text": [
            "file_sizes: 100%|████████████████████████████| 981k/981k [00:00<00:00, 16.2MB/s]"
          ],
          "name": "stderr"
        },
        {
          "output_type": "stream",
          "text": [
            "Downloading data from https://raw.githubusercontent.com/SMAHAM/Scene-Recognization/master/UrbanSound_data/air_conditioner/13230.mp3 (958 kB)\n",
            "\n",
            "Successfully downloaded file to ./13230.mp3\n"
          ],
          "name": "stdout"
        },
        {
          "output_type": "stream",
          "text": [
            "\n",
            "file_sizes: 100%|████████████████████████████| 145k/145k [00:00<00:00, 4.61MB/s]"
          ],
          "name": "stderr"
        },
        {
          "output_type": "stream",
          "text": [
            "Downloading data from https://raw.githubusercontent.com/SMAHAM/Scene-Recognization/master/UrbanSound_data/car_horn/2937.wav (141 kB)\n",
            "\n",
            "Successfully downloaded file to ./2937.wav\n"
          ],
          "name": "stdout"
        },
        {
          "output_type": "stream",
          "text": [
            "\n",
            "file_sizes: 100%|██████████████████████████| 6.54M/6.54M [00:00<00:00, 68.8MB/s]"
          ],
          "name": "stderr"
        },
        {
          "output_type": "stream",
          "text": [
            "Downloading data from https://raw.githubusercontent.com/SMAHAM/Scene-Recognization/master/UrbanSound_data/children_playing/13579.mp3 (6.2 MB)\n",
            "\n",
            "Successfully downloaded file to ./13579.mp3\n"
          ],
          "name": "stdout"
        },
        {
          "output_type": "stream",
          "text": [
            "\n",
            "file_sizes: 100%|████████████████████████████| 933k/933k [00:00<00:00, 15.0MB/s]"
          ],
          "name": "stderr"
        },
        {
          "output_type": "stream",
          "text": [
            "Downloading data from https://raw.githubusercontent.com/SMAHAM/Scene-Recognization/master/UrbanSound_data/dog_bark/344.wav (911 kB)\n",
            "\n",
            "Successfully downloaded file to ./344.wav\n"
          ],
          "name": "stdout"
        },
        {
          "output_type": "stream",
          "text": [
            "\n",
            "file_sizes: 100%|████████████████████████████| 918k/918k [00:00<00:00, 15.3MB/s]"
          ],
          "name": "stderr"
        },
        {
          "output_type": "stream",
          "text": [
            "Downloading data from https://raw.githubusercontent.com/SMAHAM/Scene-Recognization/master/UrbanSound_data/drilling/518.wav (897 kB)\n",
            "\n",
            "Successfully downloaded file to ./518.wav\n"
          ],
          "name": "stdout"
        },
        {
          "output_type": "stream",
          "text": [
            "\n",
            "file_sizes: 100%|████████████████████████████| 437k/437k [00:00<00:00, 10.8MB/s]"
          ],
          "name": "stderr"
        },
        {
          "output_type": "stream",
          "text": [
            "Downloading data from https://raw.githubusercontent.com/SMAHAM/Scene-Recognization/master/UrbanSound_data/engine_idling/6988.mp3 (427 kB)\n",
            "\n",
            "Successfully downloaded file to ./6988.mp3\n"
          ],
          "name": "stdout"
        },
        {
          "output_type": "stream",
          "text": [
            "\n",
            "file_sizes: 100%|██████████████████████████| 1.33M/1.33M [00:00<00:00, 21.7MB/s]"
          ],
          "name": "stderr"
        },
        {
          "output_type": "stream",
          "text": [
            "Downloading data from https://raw.githubusercontent.com/SMAHAM/Scene-Recognization/master/UrbanSound_data/gun_shot/7060.wav (1.3 MB)\n",
            "\n",
            "Successfully downloaded file to ./7060.wav\n"
          ],
          "name": "stdout"
        },
        {
          "output_type": "stream",
          "text": [
            "\n",
            "file_sizes:  39%|██████████▏               | 7.92M/20.3M [00:00<00:00, 75.7MB/s]"
          ],
          "name": "stderr"
        },
        {
          "output_type": "stream",
          "text": [
            "Downloading data from https://raw.githubusercontent.com/SMAHAM/Scene-Recognization/master/UrbanSound_data/jackhammer/24728.wav (19.4 MB)\n",
            "\n"
          ],
          "name": "stdout"
        },
        {
          "output_type": "stream",
          "text": [
            "\rfile_sizes: 100%|███████████████████████████| 20.3M/20.3M [00:00<00:00, 127MB/s]\n"
          ],
          "name": "stderr"
        },
        {
          "output_type": "stream",
          "text": [
            "Successfully downloaded file to ./24728.wav\n",
            "Downloading data from https://raw.githubusercontent.com/SMAHAM/Scene-Recognization/master/UrbanSound_data/siren/16772.wav (367 kB)\n",
            "\n"
          ],
          "name": "stdout"
        },
        {
          "output_type": "stream",
          "text": [
            "file_sizes: 100%|████████████████████████████| 376k/376k [00:00<00:00, 9.33MB/s]\n"
          ],
          "name": "stderr"
        },
        {
          "output_type": "stream",
          "text": [
            "Successfully downloaded file to ./16772.wav\n"
          ],
          "name": "stdout"
        },
        {
          "output_type": "stream",
          "text": [
            "file_sizes: 100%|████████████████████████████| 600k/600k [00:00<00:00, 12.1MB/s]"
          ],
          "name": "stderr"
        },
        {
          "output_type": "stream",
          "text": [
            "Downloading data from https://raw.githubusercontent.com/SMAHAM/Scene-Recognization/master/UrbanSound_data/street_music/6508.mp3 (586 kB)\n",
            "\n",
            "Successfully downloaded file to ./6508.mp3\n"
          ],
          "name": "stdout"
        },
        {
          "output_type": "stream",
          "text": [
            "\n"
          ],
          "name": "stderr"
        },
        {
          "output_type": "execute_result",
          "data": {
            "text/plain": [
              "'./6508.mp3'"
            ]
          },
          "metadata": {
            "tags": []
          },
          "execution_count": 6
        }
      ]
    },
    {
      "cell_type": "markdown",
      "metadata": {
        "id": "L5shghZUeFZn",
        "colab_type": "text"
      },
      "source": [
        "## Converting second intervals to bit intervals"
      ]
    },
    {
      "cell_type": "code",
      "metadata": {
        "id": "Y9VVb4lAX2bh",
        "colab_type": "code",
        "colab": {}
      },
      "source": [
        "def start_end(sig,start,end,sr=44100):\n",
        "  if (start>end):\n",
        "    (start,end)=(end,start)\n",
        "  if (start<=0 or start>len(sig)/sr):\n",
        "    start = 0\n",
        "  else:\n",
        "    start = int(start*sr)\n",
        "  if (end==-1 or end>len(sig)/sr):\n",
        "    end = len(sig)\n",
        "  else:\n",
        "    end = int(end*sr)\n",
        "  print('start: ',start)\n",
        "  print('end: ',end)\n",
        "  return(start,end)"
      ],
      "execution_count": 0,
      "outputs": []
    },
    {
      "cell_type": "markdown",
      "metadata": {
        "id": "6agupjUGEKsC",
        "colab_type": "text"
      },
      "source": [
        "# MFCC generator"
      ]
    },
    {
      "cell_type": "code",
      "metadata": {
        "id": "cePzXpn2EJrZ",
        "colab_type": "code",
        "colab": {}
      },
      "source": [
        "def make_mfcc(filename,file_ext,path='./',start=-1,end=-1,fig_size =5,sr=44100,hop_length=512,n_mfcc = 13):\n",
        "  fig = plt.Figure(figsize=(fig_size,fig_size))\n",
        "  canvas = FigureCanvas(fig)\n",
        "  ax = fig.add_subplot(111)\n",
        "  ax.axis('off')\n",
        "  sig, rate = librosa.load(path+filename+file_ext, sr=sr)\n",
        "  start,end = start_end(sig,start,end)\n",
        "  y=sig[start:end]\n",
        "  \n",
        "  mfcc = librosa.feature.mfcc(y=y, sr=rate, hop_length=hop_length, n_mfcc=n_mfcc)\n",
        "  mfcc_result = librosa.display.specshow(mfcc, sr=sr, hop_length=hop_length, ax=ax)\n",
        "  img_name = filename+'_mfcc.png'\n",
        "  fig.savefig(path+img_name)\n",
        "  img = Image.open(path+img_name)\n",
        "  rate = int(fig_size/5)\n",
        "  left = rate*50\n",
        "  right = left + 256 * rate\n",
        "  crop_area = (left, left, right, right)\n",
        "  cropped_img = img.crop(crop_area)\n",
        "  plt.axis('off')\n",
        "  imgplot = plt.imshow(cropped_img)\n",
        "  cropped_img.save(path+img_name)\n",
        "  print('The length of main signal is ',round(len(sig)/sr,4),' seconds')\n",
        "  print('The MFCC file is created: '+img_name)\n",
        "  print('The size of main signal is: ',len(sig))\n",
        "  print('The size of extracted signal is: ',len(y))"
      ],
      "execution_count": 0,
      "outputs": []
    },
    {
      "cell_type": "markdown",
      "metadata": {
        "id": "hnHvKWCEEW0D",
        "colab_type": "text"
      },
      "source": [
        "# STFT generator"
      ]
    },
    {
      "cell_type": "code",
      "metadata": {
        "id": "xEpNieniERbM",
        "colab_type": "code",
        "colab": {}
      },
      "source": [
        "def make_stft(filename,file_ext,path='./',start=-1,end=-1,fig_size =5,sr=44100,hop_length=512,window_size = 1024):\n",
        "  fig = plt.Figure(figsize=(fig_size,fig_size))\n",
        "  canvas = FigureCanvas(fig)\n",
        "  ax = fig.add_subplot(111)\n",
        "  ax.axis('off')\n",
        "  sig, rate = librosa.load(path+filename+file_ext, sr=sr)\n",
        "  start,end = start_end(sig,start,end)\n",
        "  y=sig[start:end]\n",
        "  window = np.hanning(window_size)\n",
        "  stft  = librosa.core.spectrum.stft(y=y, n_fft=window_size, hop_length=hop_length, window=window)\n",
        "  out = 2 * np.abs(stft) / np.sum(window)\n",
        "\n",
        "  stft = librosa.display.specshow(librosa.amplitude_to_db(out, ref=np.max), ax=ax, y_axis='log', x_axis='time')\n",
        "  img_name = filename+'_stft.png'\n",
        "  fig.savefig(path+img_name)\n",
        "  img = Image.open(path+img_name)\n",
        "  rate = int(fig_size/5)\n",
        "  left = rate*50\n",
        "  right = left + 256 * rate\n",
        "  crop_area = (left, left, right, right)\n",
        "  cropped_img = img.crop(crop_area)\n",
        "  plt.axis('off')\n",
        "  imgplot = plt.imshow(cropped_img)\n",
        "  cropped_img.save(path+img_name)\n",
        "  print('The length of main signal is ',round(len(sig)/sr,4),' seconds')\n",
        "  print('The STFT file is created: '+img_name)\n",
        "  print('The size of main signal is: ',len(sig))\n",
        "  print('The size of extracted signal is: ',len(y))"
      ],
      "execution_count": 0,
      "outputs": []
    },
    {
      "cell_type": "markdown",
      "metadata": {
        "id": "xzHabGVZz3ta",
        "colab_type": "text"
      },
      "source": [
        "# Air Conditioner "
      ]
    },
    {
      "cell_type": "markdown",
      "metadata": {
        "id": "3L035Q-XB8sy",
        "colab_type": "text"
      },
      "source": [
        "## MFCC"
      ]
    },
    {
      "cell_type": "code",
      "metadata": {
        "id": "fIAJw8RbRiLb",
        "colab_type": "code",
        "colab": {
          "base_uri": "https://localhost:8080/",
          "height": 371
        },
        "outputId": "34f310f0-76e4-46e5-90b5-15a205be572b"
      },
      "source": [
        "make_mfcc('13230','.mp3', fig_size = 5, start=2.1112, end=4.1112, path='/content/')"
      ],
      "execution_count": 10,
      "outputs": [
        {
          "output_type": "stream",
          "text": [
            "start:  93103\n",
            "end:  181303\n",
            "The length of main signal is  61.2833  seconds\n",
            "The MFCC file is created: 13230_mfcc.png\n",
            "The size of main signal is:  2702592\n",
            "The size of extracted signal is:  88200\n"
          ],
          "name": "stdout"
        },
        {
          "output_type": "display_data",
          "data": {
            "image/png": "[encoded data removed]",
            "text/plain": [
              "<Figure size 432x288 with 1 Axes>"
            ]
          },
          "metadata": {
            "tags": []
          }
        }
      ]
    },
    {
      "cell_type": "markdown",
      "metadata": {
        "id": "jupHG_t3e-xs",
        "colab_type": "text"
      },
      "source": [
        "## STFT"
      ]
    },
    {
      "cell_type": "code",
      "metadata": {
        "id": "pQOnzBP0a2Io",
        "colab_type": "code",
        "colab": {
          "base_uri": "https://localhost:8080/",
          "height": 371
        },
        "outputId": "55c2c57c-2851-41ca-ce0c-76f035f3d92b"
      },
      "source": [
        "make_stft('13230','.mp3', fig_size = 5, start=2.1112, end=4.1112, path='/content/')"
      ],
      "execution_count": 11,
      "outputs": [
        {
          "output_type": "stream",
          "text": [
            "start:  93103\n",
            "end:  181303\n",
            "The length of main signal is  61.2833  seconds\n",
            "The STFT file is created: 13230_stft.png\n",
            "The size of main signal is:  2702592\n",
            "The size of extracted signal is:  88200\n"
          ],
          "name": "stdout"
        },
        {
          "output_type": "display_data",
          "data": {
            "image/png": "[encoded data removed]",
            "text/plain": [
              "<Figure size 432x288 with 1 Axes>"
            ]
          },
          "metadata": {
            "tags": []
          }
        }
      ]
    },
    {
      "cell_type": "markdown",
      "metadata": {
        "id": "UVAmxvhwDPRz",
        "colab_type": "text"
      },
      "source": [
        "# Car Horn"
      ]
    },
    {
      "cell_type": "markdown",
      "metadata": {
        "id": "QLSx25RUDSOo",
        "colab_type": "text"
      },
      "source": [
        "## MFCC"
      ]
    },
    {
      "cell_type": "code",
      "metadata": {
        "id": "QfmG4QAsfPuy",
        "colab_type": "code",
        "colab": {
          "base_uri": "https://localhost:8080/",
          "height": 371
        },
        "outputId": "598eb3cd-dac5-40ae-d14f-30b4228c7497"
      },
      "source": [
        "make_mfcc('2937','.wav', fig_size = 5, start=2.1112, end=4.1112, path='/content/')"
      ],
      "execution_count": 12,
      "outputs": [
        {
          "output_type": "stream",
          "text": [
            "start:  0\n",
            "end:  36128\n",
            "The length of main signal is  0.8192  seconds\n",
            "The MFCC file is created: 2937_mfcc.png\n",
            "The size of main signal is:  36128\n",
            "The size of extracted signal is:  36128\n"
          ],
          "name": "stdout"
        },
        {
          "output_type": "display_data",
          "data": {
            "image/png": "[encoded data removed]",
            "text/plain": [
              "<Figure size 432x288 with 1 Axes>"
            ]
          },
          "metadata": {
            "tags": []
          }
        }
      ]
    },
    {
      "cell_type": "markdown",
      "metadata": {
        "id": "ps7PIOtwfTPK",
        "colab_type": "text"
      },
      "source": [
        "## STFT"
      ]
    },
    {
      "cell_type": "code",
      "metadata": {
        "id": "bG2xqLRrfYzo",
        "colab_type": "code",
        "colab": {
          "base_uri": "https://localhost:8080/",
          "height": 371
        },
        "outputId": "85695026-bb02-42e8-cfc6-ad0cdeca2dbb"
      },
      "source": [
        "make_stft('2937','.wav', fig_size = 5, start=2.1112, end=4.1112, path='/content/')"
      ],
      "execution_count": 13,
      "outputs": [
        {
          "output_type": "stream",
          "text": [
            "start:  0\n",
            "end:  36128\n",
            "The length of main signal is  0.8192  seconds\n",
            "The STFT file is created: 2937_stft.png\n",
            "The size of main signal is:  36128\n",
            "The size of extracted signal is:  36128\n"
          ],
          "name": "stdout"
        },
        {
          "output_type": "display_data",
          "data": {
            "image/png": "[encoded data removed]",
            "text/plain": [
              "<Figure size 432x288 with 1 Axes>"
            ]
          },
          "metadata": {
            "tags": []
          }
        }
      ]
    },
    {
      "cell_type": "markdown",
      "metadata": {
        "id": "DQyWjFOFfLPR",
        "colab_type": "text"
      },
      "source": [
        "# MNIST code"
      ]
    },
    {
      "cell_type": "code",
      "metadata": {
        "id": "yY_UUF3PVY73",
        "colab_type": "code",
        "outputId": "156fc9eb-45c0-48e8-f454-ede756342919",
        "colab": {
          "base_uri": "https://localhost:8080/",
          "height": 343
        }
      },
      "source": [
        "import tensorflow as tf\n",
        "mnist = tf.keras.datasets.mnist\n",
        "\n",
        "(x_train, y_train),(x_test, y_test) = mnist.load_data()\n",
        "x_train, x_test = x_train / 255.0, x_test / 255.0\n",
        "\n",
        "model = tf.keras.models.Sequential([\n",
        "  tf.keras.layers.Flatten(input_shape=(28, 28)),\n",
        "  tf.keras.layers.Dense(512, activation=tf.nn.relu),\n",
        "  tf.keras.layers.Dropout(0.2),\n",
        "  tf.keras.layers.Dense(10, activation=tf.nn.softmax)\n",
        "])\n",
        "model.compile(optimizer='adam',\n",
        "              loss='sparse_categorical_crossentropy',\n",
        "              metrics=['accuracy'])\n",
        "\n",
        "model.fit(x_train, y_train, epochs=5)\n",
        "model.evaluate(x_test, y_test)"
      ],
      "execution_count": 14,
      "outputs": [
        {
          "output_type": "stream",
          "text": [
            "Downloading data from https://storage.googleapis.com/tensorflow/tf-keras-datasets/mnist.npz\n",
            "11493376/11490434 [==============================] - 0s 0us/step\n"
          ],
          "name": "stdout"
        },
        {
          "output_type": "stream",
          "text": [
            "WARNING: Logging before flag parsing goes to stderr.\n",
            "W0619 11:32:33.001352 140070757980032 deprecation.py:506] From /usr/local/lib/python3.6/dist-packages/tensorflow/python/ops/init_ops.py:1251: calling VarianceScaling.__init__ (from tensorflow.python.ops.init_ops) with dtype is deprecated and will be removed in a future version.\n",
            "Instructions for updating:\n",
            "Call initializer instance with the dtype argument instead of passing it to the constructor\n"
          ],
          "name": "stderr"
        },
        {
          "output_type": "stream",
          "text": [
            "Epoch 1/5\n",
            "60000/60000 [==============================] - 5s 89us/sample - loss: 0.2158 - acc: 0.9359\n",
            "Epoch 2/5\n",
            "60000/60000 [==============================] - 4s 73us/sample - loss: 0.0986 - acc: 0.9692\n",
            "Epoch 3/5\n",
            "60000/60000 [==============================] - 4s 72us/sample - loss: 0.0678 - acc: 0.9786\n",
            "Epoch 4/5\n",
            "60000/60000 [==============================] - 4s 73us/sample - loss: 0.0543 - acc: 0.9825\n",
            "Epoch 5/5\n",
            "60000/60000 [==============================] - 4s 71us/sample - loss: 0.0454 - acc: 0.9848\n",
            "10000/10000 [==============================] - 0s 47us/sample - loss: 0.0666 - acc: 0.9799\n"
          ],
          "name": "stdout"
        },
        {
          "output_type": "execute_result",
          "data": {
            "text/plain": [
              "[0.06660669120757375, 0.9799]"
            ]
          },
          "metadata": {
            "tags": []
          },
          "execution_count": 14
        }
      ]
    }
  ]
}