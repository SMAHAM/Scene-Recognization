{
  "nbformat": 4,
  "nbformat_minor": 0,
  "metadata": {
    "colab": {
      "name": "scene-reorganization.ipynb",
      "version": "0.3.2",
      "provenance": [],
      "toc_visible": true,
      "include_colab_link": true
    },
    "kernelspec": {
      "name": "python3",
      "display_name": "Python 3"
    },
    "accelerator": "GPU"
  },
  "cells": [
    {
      "cell_type": "markdown",
      "metadata": {
        "id": "view-in-github",
        "colab_type": "text"
      },
      "source": [
        "<a href=\"https://colab.research.google.com/github/SMAHAM/Scene-Recognization/blob/master/scene_reorganization.ipynb\" target=\"_parent\"><img src=\"https://colab.research.google.com/assets/colab-badge.svg\" alt=\"Open In Colab\"/></a>"
      ]
    },
    {
      "cell_type": "markdown",
      "metadata": {
        "id": "l8j6uzl9V9Xz",
        "colab_type": "text"
      },
      "source": [
        "# Multimodal scene reorganization for audio Categorization"
      ]
    },
    {
      "cell_type": "markdown",
      "metadata": {
        "id": "8kWcY7Zc8uuF",
        "colab_type": "text"
      },
      "source": [
        "## Stats\n",
        "\n",
        "### Number of classes = 10\n",
        "\n",
        "\n",
        "```\n",
        "class_labels=[\n",
        "'air_conditioner',\n",
        "'car_horn',\n",
        "'children_playing',\n",
        "'dog_bark',\n",
        "'drilling',\n",
        "'engine_idling',\n",
        "'gun_shot',\n",
        "'jackhammer',\n",
        "'siren',\n",
        "'street_music'\n",
        "]\n",
        "```\n",
        "\n",
        "\n",
        "### Number of files in total\n",
        "\n",
        "\n",
        "```\n",
        "   1302 json\n",
        "   1302 csv\n",
        "    925 wav\n",
        "    181 mp3\n",
        "    106 flac\n",
        "     58 aif\n",
        "     28 aiff\n",
        "      4 ogg\n",
        "```\n",
        "\n",
        "---\n",
        "\n",
        "### air_conditioner\n",
        "\n",
        "```\n",
        "     64 json\n",
        "     64 csv\n",
        "     39 wav\n",
        "     12 flac\n",
        "     10 mp3\n",
        "     2 aif\n",
        "     1 aiff\n",
        "```\n",
        "\n",
        "---\n",
        "### car_horn\n",
        "\n",
        "```\n",
        "    125 json\n",
        "    125 csv\n",
        "    104 wav\n",
        "     11 mp3\n",
        "      4 flac\n",
        "      3 aiff\n",
        "      2 aif\n",
        "      1 ogg\n",
        "```\n",
        "\n",
        "---\n",
        "### children_playing\n",
        "```\n",
        "    158 json\n",
        "    158 csv\n",
        "    121 wav\n",
        "     16 mp3\n",
        "      9 aif\n",
        "      6 flac\n",
        "      5 aiff\n",
        "      1 ogg\n",
        "```\n",
        "---\n",
        "### dog_bark\n",
        "\n",
        "```\n",
        "    337 json\n",
        "    337 csv\n",
        "    221 wav\n",
        "     54 mp3\n",
        "     37 flac\n",
        "     16 aif\n",
        "      8 aiff\n",
        "      1 ogg\n",
        "```\n",
        "---\n",
        "### drilling\n",
        "```\n",
        "    119 json\n",
        "    119 csv\n",
        "     88 wav\n",
        "     12 flac\n",
        "     11 mp3\n",
        "      5 aiff\n",
        "      3 aif\n",
        "```\n",
        "---\n",
        "### engine_idling\n",
        "```\n",
        "     97 json\n",
        "     97 csv\n",
        "     67 wav\n",
        "     10 mp3\n",
        "      9 flac\n",
        "      9 aif\n",
        "      2 aiff\n",
        "```\n",
        "---\n",
        "### gun_shot\n",
        "```\n",
        "    117 json\n",
        "    117 csv\n",
        "     94 wav\n",
        "     17 mp3\n",
        "      4 flac\n",
        "      2 aif\n",
        "```\n",
        "---\n",
        "### jackhammer\n",
        "```\n",
        "     45 json\n",
        "     45 csv\n",
        "     31 wav\n",
        "      7 flac\n",
        "      4 aif\n",
        "      2 mp3\n",
        "      1 aiff\n",
        "```\n",
        "---\n",
        "### siren\n",
        "```\n",
        "     74 json\n",
        "     74 csv\n",
        "     60 wav\n",
        "      7 aif\n",
        "      5 mp3\n",
        "      1 ogg\n",
        "      1 flac\n",
        "```\n",
        "---\n",
        "### street_music\n",
        "```\n",
        "    166 json\n",
        "    166 csv\n",
        "    100 wav\n",
        "     45 mp3\n",
        "     14 flac\n",
        "      4 aif\n",
        "      3 aiff\n",
        " ```"
      ]
    },
    {
      "cell_type": "code",
      "metadata": {
        "id": "kxMTIspnD0TP",
        "colab_type": "code",
        "colab": {}
      },
      "source": [
        "#to find stats\n",
        "#!find ./ -type f | rev | cut -d. -f1 | rev  | tr '[:upper:]' '[:lower:]' | sort | uniq --count | sort -rn\n",
        "#number of files in a directory\n",
        "#ls -q | wc -l"
      ],
      "execution_count": 0,
      "outputs": []
    },
    {
      "cell_type": "code",
      "metadata": {
        "id": "FzAlTCmo9PEE",
        "colab_type": "code",
        "colab": {}
      },
      "source": [
        "#list of labels\n",
        "class_labels=[\n",
        "'air_conditioner',\n",
        "'car_horn',\n",
        "'children_playing',\n",
        "'dog_bark',\n",
        "'drilling',\n",
        "'engine_idling',\n",
        "'gun_shot',\n",
        "'jackhammer',\n",
        "'siren',\n",
        "'street_music'\n",
        "]"
      ],
      "execution_count": 0,
      "outputs": []
    },
    {
      "cell_type": "code",
      "metadata": {
        "id": "TrFqmrAu8PQw",
        "colab_type": "code",
        "outputId": "df442fac-5594-490d-fd7b-a12deaf3642b",
        "colab": {
          "base_uri": "https://localhost:8080/",
          "height": 54
        }
      },
      "source": [
        "# Run this cell to mount your Google Drive.\n",
        "from google.colab import drive\n",
        "drive.mount('/content/drive')"
      ],
      "execution_count": 30,
      "outputs": [
        {
          "output_type": "stream",
          "text": [
            "Drive already mounted at /content/drive; to attempt to forcibly remount, call drive.mount(\"/content/drive\", force_remount=True).\n"
          ],
          "name": "stdout"
        }
      ]
    },
    {
      "cell_type": "markdown",
      "metadata": {
        "id": "MTiKHnZEQcpc",
        "colab_type": "text"
      },
      "source": [
        "# Installation of required librearies"
      ]
    },
    {
      "cell_type": "code",
      "metadata": {
        "id": "gEA0kHBsQg3S",
        "colab_type": "code",
        "outputId": "e7fb6b9e-51a2-4527-f8c7-aa075832a2b5",
        "colab": {
          "base_uri": "https://localhost:8080/",
          "height": 326
        }
      },
      "source": [
        "#apt install axel\n",
        "!pip3 install librosa\n",
        "!pip install download"
      ],
      "execution_count": 5,
      "outputs": [
        {
          "output_type": "stream",
          "text": [
            "Requirement already satisfied: librosa in /usr/local/lib/python3.6/dist-packages (0.6.3)\n",
            "Requirement already satisfied: six>=1.3 in /usr/local/lib/python3.6/dist-packages (from librosa) (1.12.0)\n",
            "Requirement already satisfied: joblib>=0.12 in /usr/local/lib/python3.6/dist-packages (from librosa) (0.13.2)\n",
            "Requirement already satisfied: numpy>=1.8.0 in /usr/local/lib/python3.6/dist-packages (from librosa) (1.16.4)\n",
            "Requirement already satisfied: audioread>=2.0.0 in /usr/local/lib/python3.6/dist-packages (from librosa) (2.1.8)\n",
            "Requirement already satisfied: resampy>=0.2.0 in /usr/local/lib/python3.6/dist-packages (from librosa) (0.2.1)\n",
            "Requirement already satisfied: numba>=0.38.0 in /usr/local/lib/python3.6/dist-packages (from librosa) (0.40.1)\n",
            "Requirement already satisfied: scipy>=1.0.0 in /usr/local/lib/python3.6/dist-packages (from librosa) (1.3.0)\n",
            "Requirement already satisfied: scikit-learn!=0.19.0,>=0.14.0 in /usr/local/lib/python3.6/dist-packages (from librosa) (0.21.2)\n",
            "Requirement already satisfied: decorator>=3.0.0 in /usr/local/lib/python3.6/dist-packages (from librosa) (4.4.0)\n",
            "Requirement already satisfied: llvmlite>=0.25.0dev0 in /usr/local/lib/python3.6/dist-packages (from numba>=0.38.0->librosa) (0.29.0)\n",
            "Collecting download\n",
            "  Downloading https://files.pythonhosted.org/packages/c2/79/d88026ed8be2da42437023fb30e5401c8e23410a773f37d283c07844e350/download-0.3.3-py2.py3-none-any.whl\n",
            "Requirement already satisfied: tqdm in /usr/local/lib/python3.6/dist-packages (from download) (4.28.1)\n",
            "Requirement already satisfied: six in /usr/local/lib/python3.6/dist-packages (from download) (1.12.0)\n",
            "Installing collected packages: download\n",
            "Successfully installed download-0.3.3\n"
          ],
          "name": "stdout"
        }
      ]
    },
    {
      "cell_type": "markdown",
      "metadata": {
        "id": "E6_8Ok_ly58M",
        "colab_type": "text"
      },
      "source": [
        "# Import Libraries"
      ]
    },
    {
      "cell_type": "code",
      "metadata": {
        "id": "f-tquOVky5jX",
        "colab_type": "code",
        "colab": {}
      },
      "source": [
        "import os\n",
        "import glob\n",
        "import json\n",
        "import matplotlib.pyplot as plt\n",
        "import librosa\n",
        "import librosa.display\n",
        "import numpy as np\n",
        "import pandas as pd\n",
        "from PIL import Image\n",
        "%matplotlib inline\n",
        "# For plotting headlessly\n",
        "from matplotlib.backends.backend_agg import FigureCanvasAgg as FigureCanvas\n",
        "from download import download"
      ],
      "execution_count": 0,
      "outputs": []
    },
    {
      "cell_type": "code",
      "metadata": {
        "id": "Ogg-HLb-Hbar",
        "colab_type": "code",
        "colab": {}
      },
      "source": [
        "#connecting to drive\n",
        "#from google.colab import drive\n",
        "#drive.mount('/content/gdrive')\n",
        "#Store the sampling rate as `sr`\n",
        "#sr = 44100\n",
        "# ---Set the hop length; at 22050 Hz, 512 samples ~= 23ms\n",
        "#hop_length = 512"
      ],
      "execution_count": 0,
      "outputs": []
    },
    {
      "cell_type": "markdown",
      "metadata": {
        "id": "hghTrR7TCch1",
        "colab_type": "text"
      },
      "source": [
        "# File downloader"
      ]
    },
    {
      "cell_type": "code",
      "metadata": {
        "id": "ikfPIWSBChOG",
        "colab_type": "code",
        "outputId": "6c0b52d2-69f5-4f8d-c315-fc5f2ddcd05e",
        "colab": {
          "base_uri": "https://localhost:8080/",
          "height": 1000
        }
      },
      "source": [
        "#whole dataset\n",
        "#!axel -n 10 https://zenodo.org/record/1206938/files/UrbanSound.tar.gz\n",
        "\n",
        "url = 'https://github.com/SMAHAM/Scene-Recognization/blob/master/UrbanSound_data/air_conditioner/13230.mp3'\n",
        "download(url,'./'+url.rsplit('/', 1)[-1])\n",
        "url = 'https://github.com/SMAHAM/Scene-Recognization/blob/master/UrbanSound_data/air_conditioner/13230.csv'\n",
        "download(url,'./'+url.rsplit('/', 1)[-1])\n",
        "url = 'https://github.com/SMAHAM/Scene-Recognization/blob/master/UrbanSound_data/car_horn/2937.wav'\n",
        "download(url,'./'+url.rsplit('/', 1)[-1])\n",
        "url = 'https://github.com/SMAHAM/Scene-Recognization/blob/master/UrbanSound_data/car_horn/2937.csv'\n",
        "download(url,'./'+url.rsplit('/', 1)[-1])\n",
        "url = 'https://github.com/SMAHAM/Scene-Recognization/blob/master/UrbanSound_data/children_playing/13579.mp3'\n",
        "download(url,'./'+url.rsplit('/', 1)[-1])\n",
        "url = 'https://github.com/SMAHAM/Scene-Recognization/blob/master/UrbanSound_data/children_playing/13579.csv'\n",
        "download(url,'./'+url.rsplit('/', 1)[-1])\n",
        "url = 'https://github.com/SMAHAM/Scene-Recognization/blob/master/UrbanSound_data/dog_bark/344.wav'\n",
        "download(url,'./'+url.rsplit('/', 1)[-1])\n",
        "url = 'https://github.com/SMAHAM/Scene-Recognization/blob/master/UrbanSound_data/dog_bark/344.csv'\n",
        "download(url,'./'+url.rsplit('/', 1)[-1])\n",
        "url = 'https://github.com/SMAHAM/Scene-Recognization/blob/master/UrbanSound_data/drilling/518.wav'\n",
        "download(url,'./'+url.rsplit('/', 1)[-1])\n",
        "url = 'https://github.com/SMAHAM/Scene-Recognization/blob/master/UrbanSound_data/drilling/518.csv'\n",
        "download(url,'./'+url.rsplit('/', 1)[-1])\n",
        "url = 'https://github.com/SMAHAM/Scene-Recognization/blob/master/UrbanSound_data/engine_idling/6988.mp3'\n",
        "download(url,'./'+url.rsplit('/', 1)[-1])\n",
        "url = 'https://github.com/SMAHAM/Scene-Recognization/blob/master/UrbanSound_data/engine_idling/6988.csv'\n",
        "download(url,'./'+url.rsplit('/', 1)[-1])\n",
        "url = 'https://github.com/SMAHAM/Scene-Recognization/blob/master/UrbanSound_data/gun_shot/7060.wav'\n",
        "download(url,'./'+url.rsplit('/', 1)[-1])\n",
        "url = 'https://github.com/SMAHAM/Scene-Recognization/blob/master/UrbanSound_data/gun_shot/7060.csv'\n",
        "download(url,'./'+url.rsplit('/', 1)[-1])\n",
        "url = 'https://github.com/SMAHAM/Scene-Recognization/blob/master/UrbanSound_data/jackhammer/24728.wav'\n",
        "download(url,'./'+url.rsplit('/', 1)[-1])\n",
        "url = 'https://github.com/SMAHAM/Scene-Recognization/blob/master/UrbanSound_data/jackhammer/24728.csv'\n",
        "download(url,'./'+url.rsplit('/', 1)[-1])\n",
        "url = 'https://github.com/SMAHAM/Scene-Recognization/blob/master/UrbanSound_data/siren/16772.wav'\n",
        "download(url,'./'+url.rsplit('/', 1)[-1])\n",
        "url = 'https://github.com/SMAHAM/Scene-Recognization/blob/master/UrbanSound_data/siren/16772.csv'\n",
        "download(url,'./'+url.rsplit('/', 1)[-1])\n",
        "url = 'https://github.com/SMAHAM/Scene-Recognization/blob/master/UrbanSound_data/street_music/6508.mp3'\n",
        "download(url,'./'+url.rsplit('/', 1)[-1])\n",
        "url = 'https://github.com/SMAHAM/Scene-Recognization/blob/master/UrbanSound_data/street_music/6508.csv'\n",
        "download(url,'./'+url.rsplit('/', 1)[-1])"
      ],
      "execution_count": 8,
      "outputs": [
        {
          "output_type": "stream",
          "text": [
            "file_sizes: 100%|████████████████████████████| 981k/981k [00:00<00:00, 16.5MB/s]"
          ],
          "name": "stderr"
        },
        {
          "output_type": "stream",
          "text": [
            "Downloading data from https://raw.githubusercontent.com/SMAHAM/Scene-Recognization/master/UrbanSound_data/air_conditioner/13230.mp3 (958 kB)\n",
            "\n",
            "Successfully downloaded file to ./13230.mp3\n"
          ],
          "name": "stdout"
        },
        {
          "output_type": "stream",
          "text": [
            "\n",
            "file_sizes: 100%|████████████████████████████| 37.0/37.0 [00:00<00:00, 18.1kB/s]"
          ],
          "name": "stderr"
        },
        {
          "output_type": "stream",
          "text": [
            "Downloading data from https://raw.githubusercontent.com/SMAHAM/Scene-Recognization/master/UrbanSound_data/air_conditioner/13230.csv (37 bytes)\n",
            "\n",
            "Successfully downloaded file to ./13230.csv\n"
          ],
          "name": "stdout"
        },
        {
          "output_type": "stream",
          "text": [
            "\n",
            "file_sizes: 100%|████████████████████████████| 145k/145k [00:00<00:00, 4.93MB/s]"
          ],
          "name": "stderr"
        },
        {
          "output_type": "stream",
          "text": [
            "Downloading data from https://raw.githubusercontent.com/SMAHAM/Scene-Recognization/master/UrbanSound_data/car_horn/2937.wav (141 kB)\n",
            "\n",
            "Successfully downloaded file to ./2937.wav\n"
          ],
          "name": "stdout"
        },
        {
          "output_type": "stream",
          "text": [
            "\n",
            "file_sizes: 100%|████████████████████████████| 29.0/29.0 [00:00<00:00, 11.5kB/s]"
          ],
          "name": "stderr"
        },
        {
          "output_type": "stream",
          "text": [
            "Downloading data from https://raw.githubusercontent.com/SMAHAM/Scene-Recognization/master/UrbanSound_data/car_horn/2937.csv (29 bytes)\n",
            "\n",
            "Successfully downloaded file to ./2937.csv\n"
          ],
          "name": "stdout"
        },
        {
          "output_type": "stream",
          "text": [
            "\n",
            "file_sizes: 100%|██████████████████████████| 6.54M/6.54M [00:00<00:00, 69.1MB/s]"
          ],
          "name": "stderr"
        },
        {
          "output_type": "stream",
          "text": [
            "Downloading data from https://raw.githubusercontent.com/SMAHAM/Scene-Recognization/master/UrbanSound_data/children_playing/13579.mp3 (6.2 MB)\n",
            "\n",
            "Successfully downloaded file to ./13579.mp3\n"
          ],
          "name": "stdout"
        },
        {
          "output_type": "stream",
          "text": [
            "\n",
            "file_sizes: 100%|████████████████████████████| 39.0/39.0 [00:00<00:00, 18.0kB/s]"
          ],
          "name": "stderr"
        },
        {
          "output_type": "stream",
          "text": [
            "Downloading data from https://raw.githubusercontent.com/SMAHAM/Scene-Recognization/master/UrbanSound_data/children_playing/13579.csv (39 bytes)\n",
            "\n",
            "Successfully downloaded file to ./13579.csv\n"
          ],
          "name": "stdout"
        },
        {
          "output_type": "stream",
          "text": [
            "\n",
            "file_sizes: 100%|████████████████████████████| 933k/933k [00:00<00:00, 15.4MB/s]"
          ],
          "name": "stderr"
        },
        {
          "output_type": "stream",
          "text": [
            "Downloading data from https://raw.githubusercontent.com/SMAHAM/Scene-Recognization/master/UrbanSound_data/dog_bark/344.wav (911 kB)\n",
            "\n",
            "Successfully downloaded file to ./344.wav\n"
          ],
          "name": "stdout"
        },
        {
          "output_type": "stream",
          "text": [
            "\n",
            "file_sizes: 100%|███████████████████████████████| 174/174 [00:00<00:00, 484kB/s]"
          ],
          "name": "stderr"
        },
        {
          "output_type": "stream",
          "text": [
            "Downloading data from https://raw.githubusercontent.com/SMAHAM/Scene-Recognization/master/UrbanSound_data/dog_bark/344.csv (174 bytes)\n",
            "\n",
            "Successfully downloaded file to ./344.csv\n"
          ],
          "name": "stdout"
        },
        {
          "output_type": "stream",
          "text": [
            "\n",
            "file_sizes: 100%|████████████████████████████| 918k/918k [00:00<00:00, 14.9MB/s]"
          ],
          "name": "stderr"
        },
        {
          "output_type": "stream",
          "text": [
            "Downloading data from https://raw.githubusercontent.com/SMAHAM/Scene-Recognization/master/UrbanSound_data/drilling/518.wav (897 kB)\n",
            "\n",
            "Successfully downloaded file to ./518.wav\n"
          ],
          "name": "stdout"
        },
        {
          "output_type": "stream",
          "text": [
            "\n",
            "file_sizes: 100%|████████████████████████████| 30.0/30.0 [00:00<00:00, 59.1kB/s]"
          ],
          "name": "stderr"
        },
        {
          "output_type": "stream",
          "text": [
            "Downloading data from https://raw.githubusercontent.com/SMAHAM/Scene-Recognization/master/UrbanSound_data/drilling/518.csv (30 bytes)\n",
            "\n",
            "Successfully downloaded file to ./518.csv\n"
          ],
          "name": "stdout"
        },
        {
          "output_type": "stream",
          "text": [
            "\n",
            "file_sizes: 100%|████████████████████████████| 437k/437k [00:00<00:00, 8.86MB/s]"
          ],
          "name": "stderr"
        },
        {
          "output_type": "stream",
          "text": [
            "Downloading data from https://raw.githubusercontent.com/SMAHAM/Scene-Recognization/master/UrbanSound_data/engine_idling/6988.mp3 (427 kB)\n",
            "\n",
            "Successfully downloaded file to ./6988.mp3\n"
          ],
          "name": "stdout"
        },
        {
          "output_type": "stream",
          "text": [
            "\n",
            "file_sizes: 100%|████████████████████████████| 35.0/35.0 [00:00<00:00, 32.0kB/s]"
          ],
          "name": "stderr"
        },
        {
          "output_type": "stream",
          "text": [
            "Downloading data from https://raw.githubusercontent.com/SMAHAM/Scene-Recognization/master/UrbanSound_data/engine_idling/6988.csv (35 bytes)\n",
            "\n",
            "Successfully downloaded file to ./6988.csv\n"
          ],
          "name": "stdout"
        },
        {
          "output_type": "stream",
          "text": [
            "\n",
            "file_sizes: 100%|██████████████████████████| 1.33M/1.33M [00:00<00:00, 21.7MB/s]"
          ],
          "name": "stderr"
        },
        {
          "output_type": "stream",
          "text": [
            "Downloading data from https://raw.githubusercontent.com/SMAHAM/Scene-Recognization/master/UrbanSound_data/gun_shot/7060.wav (1.3 MB)\n",
            "\n",
            "Successfully downloaded file to ./7060.wav\n"
          ],
          "name": "stdout"
        },
        {
          "output_type": "stream",
          "text": [
            "\n",
            "file_sizes: 100%|████████████████████████████| 87.0/87.0 [00:00<00:00, 30.7kB/s]"
          ],
          "name": "stderr"
        },
        {
          "output_type": "stream",
          "text": [
            "Downloading data from https://raw.githubusercontent.com/SMAHAM/Scene-Recognization/master/UrbanSound_data/gun_shot/7060.csv (87 bytes)\n",
            "\n",
            "Successfully downloaded file to ./7060.csv\n"
          ],
          "name": "stdout"
        },
        {
          "output_type": "stream",
          "text": [
            "\n",
            "file_sizes: 100%|███████████████████████████| 20.3M/20.3M [00:00<00:00, 137MB/s]"
          ],
          "name": "stderr"
        },
        {
          "output_type": "stream",
          "text": [
            "Downloading data from https://raw.githubusercontent.com/SMAHAM/Scene-Recognization/master/UrbanSound_data/jackhammer/24728.wav (19.4 MB)\n",
            "\n",
            "Successfully downloaded file to ./24728.wav\n"
          ],
          "name": "stdout"
        },
        {
          "output_type": "stream",
          "text": [
            "\n",
            "file_sizes: 100%|██████████████████████████████| 194/194 [00:00<00:00, 50.1kB/s]"
          ],
          "name": "stderr"
        },
        {
          "output_type": "stream",
          "text": [
            "Downloading data from https://raw.githubusercontent.com/SMAHAM/Scene-Recognization/master/UrbanSound_data/jackhammer/24728.csv (194 bytes)\n",
            "\n",
            "Successfully downloaded file to ./24728.csv\n"
          ],
          "name": "stdout"
        },
        {
          "output_type": "stream",
          "text": [
            "\n",
            "file_sizes: 100%|████████████████████████████| 376k/376k [00:00<00:00, 9.39MB/s]"
          ],
          "name": "stderr"
        },
        {
          "output_type": "stream",
          "text": [
            "Downloading data from https://raw.githubusercontent.com/SMAHAM/Scene-Recognization/master/UrbanSound_data/siren/16772.wav (367 kB)\n",
            "\n",
            "Successfully downloaded file to ./16772.wav\n"
          ],
          "name": "stdout"
        },
        {
          "output_type": "stream",
          "text": [
            "\n",
            "file_sizes: 100%|████████████████████████████| 26.0/26.0 [00:00<00:00, 7.78kB/s]"
          ],
          "name": "stderr"
        },
        {
          "output_type": "stream",
          "text": [
            "Downloading data from https://raw.githubusercontent.com/SMAHAM/Scene-Recognization/master/UrbanSound_data/siren/16772.csv (26 bytes)\n",
            "\n",
            "Successfully downloaded file to ./16772.csv\n"
          ],
          "name": "stdout"
        },
        {
          "output_type": "stream",
          "text": [
            "\n",
            "file_sizes: 100%|████████████████████████████| 600k/600k [00:00<00:00, 11.9MB/s]"
          ],
          "name": "stderr"
        },
        {
          "output_type": "stream",
          "text": [
            "Downloading data from https://raw.githubusercontent.com/SMAHAM/Scene-Recognization/master/UrbanSound_data/street_music/6508.mp3 (586 kB)\n",
            "\n",
            "Successfully downloaded file to ./6508.mp3\n"
          ],
          "name": "stdout"
        },
        {
          "output_type": "stream",
          "text": [
            "\n",
            "file_sizes: 100%|████████████████████████████| 69.0/69.0 [00:00<00:00, 65.2kB/s]"
          ],
          "name": "stderr"
        },
        {
          "output_type": "stream",
          "text": [
            "Downloading data from https://raw.githubusercontent.com/SMAHAM/Scene-Recognization/master/UrbanSound_data/street_music/6508.csv (69 bytes)\n",
            "\n",
            "Successfully downloaded file to ./6508.csv\n"
          ],
          "name": "stdout"
        },
        {
          "output_type": "stream",
          "text": [
            "\n"
          ],
          "name": "stderr"
        },
        {
          "output_type": "execute_result",
          "data": {
            "text/plain": [
              "'./6508.csv'"
            ]
          },
          "metadata": {
            "tags": []
          },
          "execution_count": 8
        }
      ]
    },
    {
      "cell_type": "markdown",
      "metadata": {
        "id": "L5shghZUeFZn",
        "colab_type": "text"
      },
      "source": [
        "## Converting second intervals to bit intervals"
      ]
    },
    {
      "cell_type": "code",
      "metadata": {
        "id": "Y9VVb4lAX2bh",
        "colab_type": "code",
        "colab": {}
      },
      "source": [
        "# returns list of starts and ends for each segments\n",
        "def segment(sig,start,end,sr=44100,window=2,stride_ratio=0.5, offset =-1,min_sig=0.5):\n",
        "  \n",
        "  \"\"\"Returns a list of starts and ends for sound segments.\"\"\"\n",
        "  \n",
        "  \n",
        "  starts_ends = []\n",
        "  start_sec = start\n",
        "  end_sec = end\n",
        "  #print('start:',start_sec,'sec =',start)\n",
        "  #print('end:',end_sec,'sec =',end)\n",
        "  \n",
        "  if (start>end):\n",
        "    (start,end)=(end,start)\n",
        "  if (start<=0 or start>len(sig)/sr):\n",
        "    start = 0\n",
        "  else:\n",
        "    start = int(start*sr)\n",
        "  if (end==-1 or end>len(sig)/sr):\n",
        "    end = len(sig)\n",
        "  else:\n",
        "    end = int(end*sr)\n",
        "    \n",
        "  print(f'end: {end}')\n",
        "  seg_len = window * sr\n",
        "  print(f'signal rate: {sr}')\n",
        "  print(f'window (segment) length: {window} seconds ({seg_len} bits)')\n",
        "  stride_step = int(seg_len*stride_ratio)\n",
        "  print(f'stride step: {stride_step} bits')\n",
        "  #sig_len = len(sig)\n",
        "  print(f'offset: {offset}')\n",
        "  \n",
        "  if (len(sig) < seg_len):\n",
        "    starts_ends.append([start, end])\n",
        "  else:\n",
        "    \n",
        "    if (offset >0):\n",
        "      max_offset = int((1- min_sig)*seg_len)\n",
        "      offset = min(int(offset*seg_len),max_offset)\n",
        "      start_orig = start\n",
        "      start = max(start-offset,0)\n",
        "      offset = start_orig - start\n",
        "      print(f'offset: {offset}')\n",
        "      print(f'start with offset: {start}')\n",
        "    \n",
        "    # Creating multiple window_size segments from a larger than window interval\n",
        "    k=0\n",
        "    #while(start+(k+1)*seg_len<=min(end,len(sig))+stride_ratio*seg_len):\n",
        "    while(True):\n",
        "      new_start = start+k*stride_step\n",
        "      new_end = new_start+seg_len\n",
        "      if(new_end > len(sig)):\n",
        "        new_end = len(sig)\n",
        "      # minimum singnal bits should be min_sig ratio of segment length  \n",
        "      min_bits = int(min_sig * seg_len)\n",
        "      if any([(new_end-new_start) < min_bits,\n",
        "               (end - new_start) < min_bits]):\n",
        "        break\n",
        "      else:\n",
        "        starts_ends.append([new_start, new_end])\n",
        "        k=k+1\n",
        "        \n",
        "  #for i in starts_ends:\n",
        "  #  print('start:',i[0])\n",
        "  #  print('end:',i[1])\n",
        "  return(starts_ends)"
      ],
      "execution_count": 0,
      "outputs": []
    },
    {
      "cell_type": "code",
      "metadata": {
        "id": "SSwvNTEwhoH-",
        "colab_type": "code",
        "colab": {}
      },
      "source": [
        "def zero_pad(sig, window_bits):\n",
        "  \n",
        "  \"\"\"Returns a zero padded signal based on signal and necessary window_bits.\"\"\"\n",
        "  \n",
        "  zero_pads = window_bits - len(sig)\n",
        "  #print('zero_pads:', zero_pads)\n",
        "  if np.all([zero_pads>0, window_bits>0,len(sig)<window_bits]):\n",
        "    sig = np.pad(sig, (0, zero_pads), 'constant', constant_values=0)\n",
        "  return sig\n",
        "  "
      ],
      "execution_count": 0,
      "outputs": []
    },
    {
      "cell_type": "markdown",
      "metadata": {
        "id": "6agupjUGEKsC",
        "colab_type": "text"
      },
      "source": [
        "# MFCC generator"
      ]
    },
    {
      "cell_type": "code",
      "metadata": {
        "id": "cePzXpn2EJrZ",
        "colab_type": "code",
        "colab": {}
      },
      "source": [
        "def make_mfcc(filename,store_path='./',num=1,label='class',\n",
        "              start=-1,end=-1, window=-1,stride_ratio=0.5,min_sig=.5,\n",
        "              offset=-1,fig_size =5,sr=44100,hop_length=512,n_mfcc = 13,show=False):\n",
        "  file_name = os.path.splitext(os.path.basename(filename))[0]\n",
        "  \n",
        "  \n",
        "  print(f'\\nclass: {label}')\n",
        "  print(f'file number: {file_name}')\n",
        "  fig = plt.Figure(figsize=(fig_size,fig_size))\n",
        "  canvas = FigureCanvas(fig)\n",
        "  ax = fig.add_subplot(111)\n",
        "  ax.axis('off')\n",
        "  sig, rate = librosa.load(filename, sr=sr)\n",
        "  print(f'The length of main signal is {round(len(sig)/sr,4)} seconds ({len(sig)} bits)')\n",
        "  \n",
        "  window_bits = window*sr\n",
        "  segments = segment(sig=sig,start=start,end=end,sr=rate,window=window,\n",
        "                     stride_ratio=stride_ratio,offset=offset,min_sig=min_sig)\n",
        "  \n",
        "  #y = zero_pad(y,bits)\n",
        "\n",
        "  \n",
        "  #if (window>0):\n",
        "  #  if (len(y)<window*sr):\n",
        "  #    y = zero_pad(y,window*sr)\n",
        "  \n",
        "  for s in segments:\n",
        "\n",
        "    y=sig[s[0]:s[1]]\n",
        "    pure_bits = len(y)\n",
        "    y=zero_pad(y,window_bits)\n",
        "    mfcc = librosa.feature.mfcc(y=y, sr=rate, hop_length=hop_length, n_mfcc=n_mfcc)\n",
        "    mfcc_result = librosa.display.specshow(mfcc, sr=sr, hop_length=hop_length, ax=ax)\n",
        "    #img_name = label+'_'+file_name+'_seg_'+str(num)+'_p_'+str(p)+'_mfcc.png'\n",
        "    start_time = \"{:08.4F}\".format(round(s[0]/sr,4))\n",
        "    end_time = \"{:08.4F}\".format(round(s[1]/sr,4))\n",
        "    \n",
        "    transfer = 'mfcc'\n",
        "    img_name = f'{label}-{transfer}-{file_name}-{start_time}-{end_time}.png'\n",
        "\n",
        "    \n",
        "    fig.savefig(store_path+img_name)\n",
        "    img = Image.open(store_path+img_name)\n",
        "    rate = int(fig_size/5)\n",
        "    left = rate*50\n",
        "    right = left + 256 * rate\n",
        "    crop_area = (left, left, right, right)\n",
        "    cropped_img = img.crop(crop_area)\n",
        "    plt.axis('off')\n",
        "    if (show):\n",
        "      imgplot = plt.imshow(cropped_img)\n",
        "    cropped_img.save(store_path+img_name)\n",
        "    print(f'\\nMFCC image: {img_name}')\n",
        "    #print('The size of extracted signal is: ',len(y),'\\n')\n",
        "    print(f'pure bits: {pure_bits} ({round(pure_bits/sr,4)} secs)')\n",
        "    print(f'total bits: {len(y)}, {round(len(y)/sr,4)} secs')\n",
        "    print(f'extracted signal: {s[0]}({start_time} sec) to {s[1]}({end_time} sec)\\n')"
      ],
      "execution_count": 0,
      "outputs": []
    },
    {
      "cell_type": "markdown",
      "metadata": {
        "id": "hnHvKWCEEW0D",
        "colab_type": "text"
      },
      "source": [
        "# STFT generator"
      ]
    },
    {
      "cell_type": "code",
      "metadata": {
        "id": "xEpNieniERbM",
        "colab_type": "code",
        "colab": {
          "base_uri": "https://localhost:8080/",
          "height": 54
        },
        "outputId": "7a5a9b53-0e07-4484-c7f3-f910e3b527d9"
      },
      "source": [
        "\"\"\"\n",
        "def make_stft(filename,store_path='./',num=1,label='class',start=-1,end=-1,fig_size =5,sr=44100,hop_length=512,window_size = 1024,show=False):\n",
        "  file_name = os.path.splitext(os.path.basename(filename))[0]\n",
        "  print('\\nclass = ', label)\n",
        "  print('file number = ',file_name)\n",
        "  fig = plt.Figure(figsize=(fig_size,fig_size))\n",
        "  canvas = FigureCanvas(fig)\n",
        "  ax = fig.add_subplot(111)\n",
        "  ax.axis('off')\n",
        "  sig, rate = librosa.load(filename, sr=sr)\n",
        "  start,end = segment(sig,start,end)\n",
        "  y=sig[start:end]\n",
        "  window = np.hanning(window_size)\n",
        "  stft  = librosa.core.spectrum.stft(y=y, n_fft=window_size, hop_length=hop_length, window=window)\n",
        "  out = 2 * np.abs(stft) / np.sum(window)\n",
        "\n",
        "  stft = librosa.display.specshow(librosa.amplitude_to_db(out, ref=np.max), ax=ax, y_axis='log', x_axis='time')\n",
        "  img_name = label+'_'+file_name+'_'+str(num)+'_stft.png'\n",
        "  fig.savefig(store_path+img_name)\n",
        "  img = Image.open(store_path+img_name)\n",
        "  rate = int(fig_size/5)\n",
        "  left = rate*50\n",
        "  right = left + 256 * rate\n",
        "  crop_area = (left, left, right, right)\n",
        "  cropped_img = img.crop(crop_area)\n",
        "  plt.axis('off')\n",
        "  if (show):\n",
        "    imgplot = plt.imshow(cropped_img)\n",
        "  cropped_img.save(store_path+img_name)\n",
        "  print('The length of main signal is',round(len(sig)/sr,4),'seconds')\n",
        "  print('The STFT file is created: '+img_name)\n",
        "  print('The size of main signal is: ',len(sig))\n",
        "  print('The size of extracted signal is: ',len(y))\n",
        "  \"\"\""
      ],
      "execution_count": 12,
      "outputs": [
        {
          "output_type": "execute_result",
          "data": {
            "text/plain": [
              "\"\\ndef make_stft(filename,store_path='./',num=1,label='class',start=-1,end=-1,fig_size =5,sr=44100,hop_length=512,window_size = 1024,show=False):\\n  file_name = os.path.splitext(os.path.basename(filename))[0]\\n  print('\\nclass = ', label)\\n  print('file number = ',file_name)\\n  fig = plt.Figure(figsize=(fig_size,fig_size))\\n  canvas = FigureCanvas(fig)\\n  ax = fig.add_subplot(111)\\n  ax.axis('off')\\n  sig, rate = librosa.load(filename, sr=sr)\\n  start,end = segment(sig,start,end)\\n  y=sig[start:end]\\n  window = np.hanning(window_size)\\n  stft  = librosa.core.spectrum.stft(y=y, n_fft=window_size, hop_length=hop_length, window=window)\\n  out = 2 * np.abs(stft) / np.sum(window)\\n\\n  stft = librosa.display.specshow(librosa.amplitude_to_db(out, ref=np.max), ax=ax, y_axis='log', x_axis='time')\\n  img_name = label+'_'+file_name+'_'+str(num)+'_stft.png'\\n  fig.savefig(store_path+img_name)\\n  img = Image.open(store_path+img_name)\\n  rate = int(fig_size/5)\\n  left = rate*50\\n  right = left + 256 * rate\\n  crop_area = (left, left, right, right)\\n  cropped_img = img.crop(crop_area)\\n  plt.axis('off')\\n  if (show):\\n    imgplot = plt.imshow(cropped_img)\\n  cropped_img.save(store_path+img_name)\\n  print('The length of main signal is',round(len(sig)/sr,4),'seconds')\\n  print('The STFT file is created: '+img_name)\\n  print('The size of main signal is: ',len(sig))\\n  print('The size of extracted signal is: ',len(y))\\n  \""
            ]
          },
          "metadata": {
            "tags": []
          },
          "execution_count": 12
        }
      ]
    },
    {
      "cell_type": "markdown",
      "metadata": {
        "id": "xzHabGVZz3ta",
        "colab_type": "text"
      },
      "source": [
        "# Air Conditioner "
      ]
    },
    {
      "cell_type": "markdown",
      "metadata": {
        "id": "3L035Q-XB8sy",
        "colab_type": "text"
      },
      "source": [
        "## MFCC"
      ]
    },
    {
      "cell_type": "code",
      "metadata": {
        "id": "drn5xR1xPS41",
        "colab_type": "code",
        "outputId": "b2c0c2d1-791a-43b0-c835-ad21d6d72eb8",
        "colab": {
          "base_uri": "https://localhost:8080/",
          "height": 34
        }
      },
      "source": [
        "cd /content"
      ],
      "execution_count": 13,
      "outputs": [
        {
          "output_type": "stream",
          "text": [
            "/content\n"
          ],
          "name": "stdout"
        }
      ]
    },
    {
      "cell_type": "code",
      "metadata": {
        "id": "fIAJw8RbRiLb",
        "colab_type": "code",
        "colab": {}
      },
      "source": [
        "#make_mfcc('13230.mp3', label ='air_conditioner', window=2,\n",
        "#          stride_ratio=.5, offset = .9,start=0, end=15,min_sig=.8,\n",
        "#          store_path='/content/',show=False)"
      ],
      "execution_count": 0,
      "outputs": []
    },
    {
      "cell_type": "code",
      "metadata": {
        "id": "rJ4HZnUIXvTN",
        "colab_type": "code",
        "colab": {}
      },
      "source": [
        "#!rm *.png"
      ],
      "execution_count": 0,
      "outputs": []
    },
    {
      "cell_type": "code",
      "metadata": {
        "id": "EAy_6EbQKo5o",
        "colab_type": "code",
        "outputId": "59a36376-58cc-4498-e8be-bac6d8a9d32c",
        "colab": {
          "base_uri": "https://localhost:8080/",
          "height": 34
        }
      },
      "source": [
        "# pwd"
      ],
      "execution_count": 0,
      "outputs": [
        {
          "output_type": "execute_result",
          "data": {
            "text/plain": [
              "'/content'"
            ]
          },
          "metadata": {
            "tags": []
          },
          "execution_count": 102
        }
      ]
    },
    {
      "cell_type": "markdown",
      "metadata": {
        "id": "jupHG_t3e-xs",
        "colab_type": "text"
      },
      "source": [
        "## STFT"
      ]
    },
    {
      "cell_type": "code",
      "metadata": {
        "id": "pQOnzBP0a2Io",
        "colab_type": "code",
        "colab": {}
      },
      "source": [
        "#make_stft('13230.mp3', label ='air_conditioner', start=2.1112, end=4.1112, store_path='/content/',show=True)"
      ],
      "execution_count": 0,
      "outputs": []
    },
    {
      "cell_type": "markdown",
      "metadata": {
        "id": "UVAmxvhwDPRz",
        "colab_type": "text"
      },
      "source": [
        "# Car Horn"
      ]
    },
    {
      "cell_type": "markdown",
      "metadata": {
        "id": "QLSx25RUDSOo",
        "colab_type": "text"
      },
      "source": [
        "## MFCC"
      ]
    },
    {
      "cell_type": "code",
      "metadata": {
        "id": "QfmG4QAsfPuy",
        "colab_type": "code",
        "colab": {}
      },
      "source": [
        "#make_mfcc('2937.wav', label ='car_horn', offset=1, stride_ratio=.5, min_sig=.5,window=2, start=0, end=10, store_path='/content/',show=True)"
      ],
      "execution_count": 0,
      "outputs": []
    },
    {
      "cell_type": "markdown",
      "metadata": {
        "id": "ps7PIOtwfTPK",
        "colab_type": "text"
      },
      "source": [
        "## STFT"
      ]
    },
    {
      "cell_type": "code",
      "metadata": {
        "id": "bG2xqLRrfYzo",
        "colab_type": "code",
        "colab": {}
      },
      "source": [
        "#make_stft('2937.wav', label ='car_horn', start=2.1112, end=4.1112, store_path='/content/',show=True)"
      ],
      "execution_count": 0,
      "outputs": []
    },
    {
      "cell_type": "markdown",
      "metadata": {
        "id": "o4Mm6tBkG955",
        "colab_type": "text"
      },
      "source": [
        "# Siren"
      ]
    },
    {
      "cell_type": "code",
      "metadata": {
        "id": "zbF73xJtHBXZ",
        "colab_type": "code",
        "colab": {}
      },
      "source": [
        "#make_mfcc('16772.wav', label ='siren',offset=0.5, stride_ratio=.5, window=2, start=0.154754, end=2.130091, store_path='/content/',show=True)"
      ],
      "execution_count": 0,
      "outputs": []
    },
    {
      "cell_type": "markdown",
      "metadata": {
        "id": "ydAqyn6IJvBD",
        "colab_type": "text"
      },
      "source": [
        "# Street music"
      ]
    },
    {
      "cell_type": "code",
      "metadata": {
        "id": "AhEK1LfHJuC8",
        "colab_type": "code",
        "colab": {}
      },
      "source": [
        "#make_mfcc('6508.mp3', label ='street_music',stride_ratio=.5, window=2, start=26.081757, end=34.063673, store_path='/content/',show=True)"
      ],
      "execution_count": 0,
      "outputs": []
    },
    {
      "cell_type": "markdown",
      "metadata": {
        "id": "RFHcV9BCMoQa",
        "colab_type": "text"
      },
      "source": [
        "# Gun Shot"
      ]
    },
    {
      "cell_type": "code",
      "metadata": {
        "id": "uvRasfTBMmbo",
        "colab_type": "code",
        "colab": {}
      },
      "source": [
        "#make_mfcc('7060.wav', label ='gun_shot',stride_ratio=.05,min_sig=.3, \n",
        "#          offset=.7, window=2, start=5.869655, end=7.4694, \n",
        "#          store_path='/content/',show=True)"
      ],
      "execution_count": 0,
      "outputs": []
    },
    {
      "cell_type": "code",
      "metadata": {
        "id": "OO7_4S4NeVrQ",
        "colab_type": "code",
        "colab": {}
      },
      "source": [
        "#!rm *.png"
      ],
      "execution_count": 0,
      "outputs": []
    },
    {
      "cell_type": "markdown",
      "metadata": {
        "id": "mPWISmDgMyMY",
        "colab_type": "text"
      },
      "source": [
        "# Trace directories and store file names in json"
      ]
    },
    {
      "cell_type": "code",
      "metadata": {
        "id": "CdatxRA73E4E",
        "colab_type": "code",
        "outputId": "a4d60fc1-988a-4f80-ef03-339a58358561",
        "colab": {
          "base_uri": "https://localhost:8080/",
          "height": 34
        }
      },
      "source": [
        "#our data directory\n",
        "cd /content/drive/Shared\\ drives/ELE888_Syeda/UrbanSound"
      ],
      "execution_count": 44,
      "outputs": [
        {
          "output_type": "stream",
          "text": [
            "/content/drive/Shared drives/ELE888_Syeda/UrbanSound\n"
          ],
          "name": "stdout"
        }
      ]
    },
    {
      "cell_type": "code",
      "metadata": {
        "id": "EpkjXuhB5JzB",
        "colab_type": "code",
        "outputId": "bd915af4-ae56-4502-aded-f37fbf806df1",
        "colab": {
          "base_uri": "https://localhost:8080/",
          "height": 105
        }
      },
      "source": [
        "path = '/content/drive/Shared drives/ELE888_Syeda/UrbanSound/data/'\n",
        "\n",
        "# the tuple of sound types\n",
        "sound_types = ('*.wav', '*.mp3','*.flac','*.aif','*.aiff','*.ogg') \n",
        "      \n",
        "csv_dict= {}\n",
        "json_dict ={}\n",
        "filename_dict ={}\n",
        "sound_dict ={}\n",
        "#List of\n",
        "for label in class_labels:\n",
        "  os.chdir(path+label)\n",
        "  csv_list = glob.glob('*.{}'.format('csv'))\n",
        "  csv_dict[label] = sorted(csv_list)\n",
        "  json_list = glob.glob('*.{}'.format('json'))\n",
        "  json_dict[label] = sorted(json_list)\n",
        "  filename_dict[label] = list(map(lambda each:each.strip(\".csv\"), csv_list))\n",
        "  files_grabbed = []\n",
        "  for files in sound_types:\n",
        "    files_grabbed.extend(glob.glob(files))\n",
        "  sound_dict[label] = sorted(files_grabbed)\n",
        "\n",
        "print(filename_dict['air_conditioner'])\n",
        "print(csv_dict['air_conditioner'])\n",
        "print(json_dict['air_conditioner'])\n",
        "print(sound_dict['air_conditioner'])"
      ],
      "execution_count": 45,
      "outputs": [
        {
          "output_type": "stream",
          "text": [
            "['100852', '101729', '121285', '121286', '119067', '13230', '127872', '127873', '134717', '146690', '146709', '146714', '146845', '147926', '151977', '153261', '159761', '165454', '162103', '167464', '166942', '170022', '170245', '177621', '177726', '177729', '177742', '178686', '184805', '189023', '185709', '189981', '189982', '189987', '189985', '189988', '189986', '189989', '189991', '195969', '202516', '202517', '204240', '35382', '30204', '50901', '55018', '47160', '54383', '57320', '56385', '58806', '60846', '59277', '62461', '63724', '73524', '74507', '74677', '75743', '79089', '83502', '80589', '85569']\n",
            "['100852.csv', '101729.csv', '119067.csv', '121285.csv', '121286.csv', '127872.csv', '127873.csv', '13230.csv', '134717.csv', '146690.csv', '146709.csv', '146714.csv', '146845.csv', '147926.csv', '151977.csv', '153261.csv', '159761.csv', '162103.csv', '165454.csv', '166942.csv', '167464.csv', '170022.csv', '170245.csv', '177621.csv', '177726.csv', '177729.csv', '177742.csv', '178686.csv', '184805.csv', '185709.csv', '189023.csv', '189981.csv', '189982.csv', '189985.csv', '189986.csv', '189987.csv', '189988.csv', '189989.csv', '189991.csv', '195969.csv', '202516.csv', '202517.csv', '204240.csv', '30204.csv', '35382.csv', '47160.csv', '50901.csv', '54383.csv', '55018.csv', '56385.csv', '57320.csv', '58806.csv', '59277.csv', '60846.csv', '62461.csv', '63724.csv', '73524.csv', '74507.csv', '74677.csv', '75743.csv', '79089.csv', '80589.csv', '83502.csv', '85569.csv']\n",
            "['100852.json', '101729.json', '119067.json', '121285.json', '121286.json', '127872.json', '127873.json', '13230.json', '134717.json', '146690.json', '146709.json', '146714.json', '146845.json', '147926.json', '151977.json', '153261.json', '159761.json', '162103.json', '165454.json', '166942.json', '167464.json', '170022.json', '170245.json', '177621.json', '177726.json', '177729.json', '177742.json', '178686.json', '184805.json', '185709.json', '189023.json', '189981.json', '189982.json', '189985.json', '189986.json', '189987.json', '189988.json', '189989.json', '189991.json', '195969.json', '202516.json', '202517.json', '204240.json', '30204.json', '35382.json', '47160.json', '50901.json', '54383.json', '55018.json', '56385.json', '57320.json', '58806.json', '59277.json', '60846.json', '62461.json', '63724.json', '73524.json', '74507.json', '74677.json', '75743.json', '79089.json', '80589.json', '83502.json', '85569.json']\n",
            "['100852.mp3', '101729.wav', '119067.aif', '121285.wav', '121286.wav', '127872.wav', '127873.wav', '13230.mp3', '134717.wav', '146690.wav', '146709.wav', '146714.wav', '146845.wav', '147926.wav', '151977.wav', '153261.wav', '159761.aiff', '162103.wav', '165454.wav', '166942.wav', '167464.wav', '170022.mp3', '170245.wav', '177621.flac', '177726.flac', '177729.flac', '177742.flac', '178686.wav', '184805.mp3', '185709.wav', '189023.wav', '189981.flac', '189982.flac', '189985.flac', '189986.flac', '189987.flac', '189988.flac', '189989.flac', '189991.flac', '195969.wav', '202516.wav', '202517.wav', '204240.wav', '30204.wav', '35382.wav', '47160.wav', '50901.wav', '54383.mp3', '55018.mp3', '56385.wav', '57320.wav', '58806.mp3', '59277.mp3', '60846.wav', '62461.wav', '63724.wav', '73524.wav', '74507.wav', '74677.mp3', '75743.mp3', '79089.wav', '80589.wav', '83502.wav', '85569.aif']\n"
          ],
          "name": "stdout"
        }
      ]
    },
    {
      "cell_type": "code",
      "metadata": {
        "id": "SejaZ9VyHPq2",
        "colab_type": "code",
        "outputId": "353ea7a4-a3e6-4237-a662-f1ed6e63c319",
        "colab": {
          "base_uri": "https://localhost:8080/",
          "height": 34
        }
      },
      "source": [
        "cd /content/drive/Shared\\ drives/ELE888_Syeda/UrbanSound"
      ],
      "execution_count": 49,
      "outputs": [
        {
          "output_type": "stream",
          "text": [
            "/content/drive/Shared drives/ELE888_Syeda/UrbanSound\n"
          ],
          "name": "stdout"
        }
      ]
    },
    {
      "cell_type": "code",
      "metadata": {
        "id": "uqqwgEdiHdB-",
        "colab_type": "code",
        "colab": {}
      },
      "source": [
        "#storing file names in json files\n",
        "#json.dump( filename_dict, open( \"filename_dict.json\", 'w' ) )\n",
        "#json.dump( sound_dict, open( \"sound_dict.json\", 'w' ) )\n",
        "#json.dump( csv_dict, open( \"csv_dict.json\", 'w' ) )\n",
        "#json.dump( json_dict, open( \"json_dict.json\", 'w' ) )"
      ],
      "execution_count": 0,
      "outputs": []
    },
    {
      "cell_type": "markdown",
      "metadata": {
        "id": "6ukxI2bfOf6a",
        "colab_type": "text"
      },
      "source": [
        "# Creating all MFCCs"
      ]
    },
    {
      "cell_type": "code",
      "metadata": {
        "id": "FutlWnCwPNz_",
        "colab_type": "code",
        "outputId": "b615c10a-0a27-4d7e-d8bd-7a886f106170",
        "colab": {
          "base_uri": "https://localhost:8080/",
          "height": 34
        }
      },
      "source": [
        "cd /content/drive/Shared\\ Drives/ELE888_Syeda/UrbanSound/mfcc/"
      ],
      "execution_count": 0,
      "outputs": [
        {
          "output_type": "stream",
          "text": [
            "/content/drive/Team Drives/ELE888_Syeda/UrbanSound/mfcc\n"
          ],
          "name": "stdout"
        }
      ]
    },
    {
      "cell_type": "code",
      "metadata": {
        "id": "QoeNj019OURM",
        "colab_type": "code",
        "colab": {}
      },
      "source": [
        "#air_conditioner: offset = 0.5,stride_ratio=0.5,min_sig=0.4\n",
        "#car_horn: offset = 0.8,stride_ratio=0.2,min_sig=0.2\n",
        "#children_playing: offset = 0.5,stride_ratio=0.5,min_sig=0.4\n",
        "#dog_bark: offset = 0.5,stride_ratio=0.5,min_sig=0.4\n",
        "#drilling: offset = 0.5,stride_ratio=0.5,min_sig=0.4\n",
        "#engine_idiling: offset = 0.5,stride_ratio=0.5,min_sig=0.4\n",
        "#gun_shot: offset = 0.8,stride_ratio=0.2,min_sig=0.2\n",
        "#jack_hammer: offset = 0.5,stride_ratio=0.5,min_sig=0.4\n",
        "#siren: offset = 0.5,stride_ratio=0.5,min_sig=0.4\n",
        "#street_music: offset = 0.5,stride_ratio=0.5,min_sig=0.4\n",
        "\n",
        "#generate all MFCCs\n",
        "store_path = '/content/drive/Shared drives/ELE888_Syeda/UrbanSound/mfcc/'\n",
        "data_path = '/content/drive/Shared drives/ELE888_Syeda/UrbanSound/data/'\n",
        "class_labels = ['air_conditioner']\n",
        "settings = {'window':2,'offset':0.5,'stride_ratio':0.5,'min_sig':0.4}\n",
        "for label in class_labels:\n",
        "  for sound in sound_dict[label]:\n",
        "    csv=pd.read_csv(data_path+label+'/'+os.path.splitext(sound)[0]+'.csv', header=None)\n",
        "    rows = csv.iloc[:, 0:2]\n",
        "    for i in range(len(rows.index)):\n",
        "      start= rows.iloc[i,0]\n",
        "      end = rows.iloc[i,1]\n",
        "#      make_mfcc(data_path+label+'/'+sound, label =label, start=start, end=end,\n",
        "#                window = settings['window'],\n",
        "#                offset=settings['offset'],stride_ratio=settings['stride_ratio'],\n",
        "#                min_sig=settings['min_sig'],\n",
        "#                store_path=store_path+label+'/')\n",
        "      "
      ],
      "execution_count": 0,
      "outputs": []
    },
    {
      "cell_type": "markdown",
      "metadata": {
        "id": "DQyWjFOFfLPR",
        "colab_type": "text"
      },
      "source": [
        "# MNIST code"
      ]
    },
    {
      "cell_type": "code",
      "metadata": {
        "id": "yY_UUF3PVY73",
        "colab_type": "code",
        "colab": {}
      },
      "source": [
        "import tensorflow as tf\n",
        "mnist = tf.keras.datasets.mnist\n",
        "\n",
        "(x_train, y_train),(x_test, y_test) = mnist.load_data()\n",
        "x_train, x_test = x_train / 255.0, x_test / 255.0\n",
        "\n",
        "model = tf.keras.models.Sequential([\n",
        "  tf.keras.layers.Flatten(input_shape=(28, 28)),\n",
        "  tf.keras.layers.Dense(512, activation=tf.nn.relu),\n",
        "  tf.keras.layers.Dropout(0.2),\n",
        "  tf.keras.layers.Dense(10, activation=tf.nn.softmax)\n",
        "])\n",
        "model.compile(optimizer='adam',\n",
        "              loss='sparse_categorical_crossentropy',\n",
        "              metrics=['accuracy'])\n",
        "\n",
        "model.fit(x_train, y_train, epochs=5)\n",
        "model.evaluate(x_test, y_test)"
      ],
      "execution_count": 0,
      "outputs": []
    }
  ]
}