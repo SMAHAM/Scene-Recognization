{
  "nbformat": 4,
  "nbformat_minor": 0,
  "metadata": {
    "colab": {
      "name": "scene-reorganization.ipynb",
      "version": "0.3.2",
      "provenance": [],
      "toc_visible": true,
      "include_colab_link": true
    },
    "kernelspec": {
      "name": "python3",
      "display_name": "Python 3"
    }
  },
  "cells": [
    {
      "cell_type": "markdown",
      "metadata": {
        "id": "view-in-github",
        "colab_type": "text"
      },
      "source": [
        "<a href=\"https://colab.research.google.com/github/SMAHAM/Scene-Recognization/blob/master/scene_reorganization.ipynb\" target=\"_parent\"><img src=\"https://colab.research.google.com/assets/colab-badge.svg\" alt=\"Open In Colab\"/></a>"
      ]
    },
    {
      "cell_type": "markdown",
      "metadata": {
        "id": "l8j6uzl9V9Xz",
        "colab_type": "text"
      },
      "source": [
        "# Multimodal scene reorganization for audio Categorization"
      ]
    },
    {
      "cell_type": "markdown",
      "metadata": {
        "id": "MTiKHnZEQcpc",
        "colab_type": "text"
      },
      "source": [
        "# Installation of required librearies"
      ]
    },
    {
      "cell_type": "code",
      "metadata": {
        "id": "gEA0kHBsQg3S",
        "colab_type": "code",
        "colab": {}
      },
      "source": [
        "#!pip3 install librosa\n",
        "#!pip install download"
      ],
      "execution_count": 0,
      "outputs": []
    },
    {
      "cell_type": "markdown",
      "metadata": {
        "id": "E6_8Ok_ly58M",
        "colab_type": "text"
      },
      "source": [
        "# Import Libraries"
      ]
    },
    {
      "cell_type": "code",
      "metadata": {
        "id": "f-tquOVky5jX",
        "colab_type": "code",
        "colab": {}
      },
      "source": [
        "import matplotlib.pyplot as plt\n",
        "import librosa\n",
        "import librosa.display\n",
        "import numpy as np\n",
        "import pandas as pd\n",
        "from PIL import Image\n",
        "%matplotlib inline\n",
        "# For plotting headlessly\n",
        "from matplotlib.backends.backend_agg import FigureCanvasAgg as FigureCanvas\n",
        "from download import download"
      ],
      "execution_count": 0,
      "outputs": []
    },
    {
      "cell_type": "markdown",
      "metadata": {
        "id": "hghTrR7TCch1",
        "colab_type": "text"
      },
      "source": [
        "# File downloader"
      ]
    },
    {
      "cell_type": "code",
      "metadata": {
        "id": "ikfPIWSBChOG",
        "colab_type": "code",
        "colab": {
          "base_uri": "https://localhost:8080/",
          "height": 734
        },
        "outputId": "65902a7e-b7b7-492d-d7b9-66b7ed02e8ec"
      },
      "source": [
        "url = 'https://github.com/SMAHAM/Scene-Recognization/blob/master/UrbanSound_data/air_conditioner/13230.mp3'\n",
        "download(url,'./'+url.rsplit('/', 1)[-1])\n",
        "url = 'https://github.com/SMAHAM/Scene-Recognization/blob/master/UrbanSound_data/car_horn/2937.wav'\n",
        "download(url,'./'+url.rsplit('/', 1)[-1])\n",
        "url = 'https://github.com/SMAHAM/Scene-Recognization/blob/master/UrbanSound_data/children_playing/13579.mp3'\n",
        "download(url,'./'+url.rsplit('/', 1)[-1])\n",
        "url = 'https://github.com/SMAHAM/Scene-Recognization/blob/master/UrbanSound_data/dog_bark/344.wav'\n",
        "download(url,'./'+url.rsplit('/', 1)[-1])\n",
        "url = 'https://github.com/SMAHAM/Scene-Recognization/blob/master/UrbanSound_data/drilling/518.wav'\n",
        "download(url,'./'+url.rsplit('/', 1)[-1])\n",
        "url = 'https://github.com/SMAHAM/Scene-Recognization/blob/master/UrbanSound_data/engine_idling/6988.mp3'\n",
        "download(url,'./'+url.rsplit('/', 1)[-1])\n",
        "url = 'https://github.com/SMAHAM/Scene-Recognization/blob/master/UrbanSound_data/gun_shot/7060.wav'\n",
        "download(url,'./'+url.rsplit('/', 1)[-1])\n",
        "url = 'https://github.com/SMAHAM/Scene-Recognization/blob/master/UrbanSound_data/jackhammer/24728.wav'\n",
        "download(url,'./'+url.rsplit('/', 1)[-1])\n",
        "url = 'https://github.com/SMAHAM/Scene-Recognization/blob/master/UrbanSound_data/siren/16772.wav'\n",
        "download(url,'./'+url.rsplit('/', 1)[-1])\n",
        "url = 'https://github.com/SMAHAM/Scene-Recognization/blob/master/UrbanSound_data/street_music/6508.mp3'\n",
        "download(url,'./'+url.rsplit('/', 1)[-1])"
      ],
      "execution_count": 88,
      "outputs": [
        {
          "output_type": "stream",
          "text": [
            "file_sizes: 100%|████████████████████████████| 981k/981k [00:00<00:00, 23.1MB/s]"
          ],
          "name": "stderr"
        },
        {
          "output_type": "stream",
          "text": [
            "Downloading data from https://raw.githubusercontent.com/SMAHAM/Scene-Recognization/master/UrbanSound_data/air_conditioner/13230.mp3 (958 kB)\n",
            "\n",
            "Successfully downloaded file to ./13230.mp3\n"
          ],
          "name": "stdout"
        },
        {
          "output_type": "stream",
          "text": [
            "\n",
            "file_sizes: 100%|████████████████████████████| 145k/145k [00:00<00:00, 7.21MB/s]"
          ],
          "name": "stderr"
        },
        {
          "output_type": "stream",
          "text": [
            "Downloading data from https://raw.githubusercontent.com/SMAHAM/Scene-Recognization/master/UrbanSound_data/car_horn/2937.wav (141 kB)\n",
            "\n",
            "Successfully downloaded file to ./2937.wav\n"
          ],
          "name": "stdout"
        },
        {
          "output_type": "stream",
          "text": [
            "\n",
            "file_sizes: 100%|██████████████████████████| 6.54M/6.54M [00:00<00:00, 85.3MB/s]"
          ],
          "name": "stderr"
        },
        {
          "output_type": "stream",
          "text": [
            "Downloading data from https://raw.githubusercontent.com/SMAHAM/Scene-Recognization/master/UrbanSound_data/children_playing/13579.mp3 (6.2 MB)\n",
            "\n",
            "Successfully downloaded file to ./13579.mp3\n",
            "Downloading data from https://raw.githubusercontent.com/SMAHAM/Scene-Recognization/master/UrbanSound_data/dog_bark/344.wav (911 kB)\n",
            "\n"
          ],
          "name": "stdout"
        },
        {
          "output_type": "stream",
          "text": [
            "\n",
            "file_sizes: 100%|████████████████████████████| 933k/933k [00:00<00:00, 21.5MB/s]\n",
            "file_sizes: 100%|████████████████████████████| 918k/918k [00:00<00:00, 21.8MB/s]\n"
          ],
          "name": "stderr"
        },
        {
          "output_type": "stream",
          "text": [
            "Successfully downloaded file to ./344.wav\n",
            "Downloading data from https://raw.githubusercontent.com/SMAHAM/Scene-Recognization/master/UrbanSound_data/drilling/518.wav (897 kB)\n",
            "\n",
            "Successfully downloaded file to ./518.wav\n"
          ],
          "name": "stdout"
        },
        {
          "output_type": "stream",
          "text": [
            "file_sizes: 100%|████████████████████████████| 437k/437k [00:00<00:00, 12.7MB/s]\n"
          ],
          "name": "stderr"
        },
        {
          "output_type": "stream",
          "text": [
            "Downloading data from https://raw.githubusercontent.com/SMAHAM/Scene-Recognization/master/UrbanSound_data/engine_idling/6988.mp3 (427 kB)\n",
            "\n",
            "Successfully downloaded file to ./6988.mp3\n",
            "Downloading data from https://raw.githubusercontent.com/SMAHAM/Scene-Recognization/master/UrbanSound_data/gun_shot/7060.wav (1.3 MB)\n",
            "\n"
          ],
          "name": "stdout"
        },
        {
          "output_type": "stream",
          "text": [
            "file_sizes: 100%|██████████████████████████| 1.33M/1.33M [00:00<00:00, 30.2MB/s]\n",
            "file_sizes:   0%|                                   | 0.00/20.3M [00:00<?, ?B/s]"
          ],
          "name": "stderr"
        },
        {
          "output_type": "stream",
          "text": [
            "Successfully downloaded file to ./7060.wav\n",
            "Downloading data from https://raw.githubusercontent.com/SMAHAM/Scene-Recognization/master/UrbanSound_data/jackhammer/24728.wav (19.4 MB)\n",
            "\n"
          ],
          "name": "stdout"
        },
        {
          "output_type": "stream",
          "text": [
            "file_sizes: 100%|███████████████████████████| 20.3M/20.3M [00:00<00:00, 143MB/s]\n",
            "file_sizes: 100%|████████████████████████████| 376k/376k [00:00<00:00, 13.4MB/s]\n"
          ],
          "name": "stderr"
        },
        {
          "output_type": "stream",
          "text": [
            "Successfully downloaded file to ./24728.wav\n",
            "Downloading data from https://raw.githubusercontent.com/SMAHAM/Scene-Recognization/master/UrbanSound_data/siren/16772.wav (367 kB)\n",
            "\n",
            "Successfully downloaded file to ./16772.wav\n"
          ],
          "name": "stdout"
        },
        {
          "output_type": "stream",
          "text": [
            "file_sizes: 100%|████████████████████████████| 600k/600k [00:00<00:00, 17.0MB/s]"
          ],
          "name": "stderr"
        },
        {
          "output_type": "stream",
          "text": [
            "Downloading data from https://raw.githubusercontent.com/SMAHAM/Scene-Recognization/master/UrbanSound_data/street_music/6508.mp3 (586 kB)\n",
            "\n",
            "Successfully downloaded file to ./6508.mp3\n"
          ],
          "name": "stdout"
        },
        {
          "output_type": "stream",
          "text": [
            "\n"
          ],
          "name": "stderr"
        },
        {
          "output_type": "execute_result",
          "data": {
            "text/plain": [
              "'./6508.mp3'"
            ]
          },
          "metadata": {
            "tags": []
          },
          "execution_count": 88
        }
      ]
    },
    {
      "cell_type": "markdown",
      "metadata": {
        "id": "6agupjUGEKsC",
        "colab_type": "text"
      },
      "source": [
        "# MFCC generator"
      ]
    },
    {
      "cell_type": "code",
      "metadata": {
        "id": "cePzXpn2EJrZ",
        "colab_type": "code",
        "colab": {}
      },
      "source": [
        "def make_mfcc(filename,file_ext,path='./',crop_area=(50, 50, 306, 306),sr=44100,hop_length=512,n_mfcc = 13):\n",
        "  sig, rate = librosa.load(path+filename+file_ext, sr=sr)\n",
        "  mfcc = librosa.feature.mfcc(y=sig, sr=rate, hop_length=hop_length, n_mfcc=n_mfcc)\n",
        "  mfcc_result = librosa.display.specshow(mfcc, sr=sr, hop_length=hop_length, ax=ax)\n",
        "  img_name = filename+'_mfcc.png'\n",
        "  print(img_name)\n",
        "  fig.savefig(path+img_name)\n",
        "  img = Image.open(path+img_name)\n",
        "  cropped_img = img.crop(crop_area)\n",
        "  plt.axis('off')\n",
        "  imgplot = plt.imshow(cropped_img)\n",
        "  cropped_img.save(img_name)"
      ],
      "execution_count": 0,
      "outputs": []
    },
    {
      "cell_type": "code",
      "metadata": {
        "id": "jjerpUlMetMp",
        "colab_type": "code",
        "colab": {
          "base_uri": "https://localhost:8080/",
          "height": 286
        },
        "outputId": "9a73a8b3-9670-4e11-ba45-18de5ef94cbd"
      },
      "source": [
        ""
      ],
      "execution_count": 95,
      "outputs": [
        {
          "output_type": "stream",
          "text": [
            "13230_mfcc.png\n"
          ],
          "name": "stdout"
        },
        {
          "output_type": "display_data",
          "data": {
            "image/png": "[encoded data removed]",
            "text/plain": [
              "<Figure size 432x288 with 1 Axes>"
            ]
          },
          "metadata": {
            "tags": []
          }
        }
      ]
    },
    {
      "cell_type": "markdown",
      "metadata": {
        "id": "hnHvKWCEEW0D",
        "colab_type": "text"
      },
      "source": [
        "# STFT generator"
      ]
    },
    {
      "cell_type": "code",
      "metadata": {
        "id": "xEpNieniERbM",
        "colab_type": "code",
        "colab": {}
      },
      "source": [
        ""
      ],
      "execution_count": 0,
      "outputs": []
    },
    {
      "cell_type": "markdown",
      "metadata": {
        "id": "eVXSzdTjy1XI",
        "colab_type": "text"
      },
      "source": [
        "# Settings"
      ]
    },
    {
      "cell_type": "code",
      "metadata": {
        "id": "LTC5kuBazFER",
        "colab_type": "code",
        "colab": {
          "base_uri": "https://localhost:8080/",
          "height": 34
        },
        "outputId": "abc39517-439e-4d24-80cd-6bd6a8b35174"
      },
      "source": [
        "n_mfcc = 13\n",
        "#Store the sampling rate as `sr`\n",
        "sr = 44100\n",
        "# ---Set the hop length; at 22050 Hz, 512 samples ~= 23ms\n",
        "hop_length = 512\n",
        "window_size = 1024\n",
        "\n",
        "plt.subplots_adjust(wspace=0, hspace=0)\n",
        "fig = plt.Figure(figsize=(5,5))\n",
        "canvas = FigureCanvas(fig)\n",
        "ax = fig.add_subplot(111)\n",
        "ax.axis('off')\n",
        "#cropping area\n",
        "area = (50, 50, 306, 306)"
      ],
      "execution_count": 38,
      "outputs": [
        {
          "output_type": "display_data",
          "data": {
            "text/plain": [
              "<Figure size 432x288 with 0 Axes>"
            ]
          },
          "metadata": {
            "tags": []
          }
        }
      ]
    },
    {
      "cell_type": "markdown",
      "metadata": {
        "id": "xzHabGVZz3ta",
        "colab_type": "text"
      },
      "source": [
        "# Air Conditioner "
      ]
    },
    {
      "cell_type": "markdown",
      "metadata": {
        "id": "3L035Q-XB8sy",
        "colab_type": "text"
      },
      "source": [
        "## MFCC"
      ]
    },
    {
      "cell_type": "code",
      "metadata": {
        "id": "fIAJw8RbRiLb",
        "colab_type": "code",
        "colab": {
          "base_uri": "https://localhost:8080/",
          "height": 286
        },
        "outputId": "408f663e-8b9b-4cfa-b3b3-925458f4143e"
      },
      "source": [
        "make_mfcc('13230','.mp3')"
      ],
      "execution_count": 96,
      "outputs": [
        {
          "output_type": "stream",
          "text": [
            "13230_mfcc.png\n"
          ],
          "name": "stdout"
        },
        {
          "output_type": "display_data",
          "data": {
            "image/png": "[encoded data removed]",
            "text/plain": [
              "<Figure size 432x288 with 1 Axes>"
            ]
          },
          "metadata": {
            "tags": []
          }
        }
      ]
    },
    {
      "cell_type": "markdown",
      "metadata": {
        "id": "TpKe7P01CFgr",
        "colab_type": "text"
      },
      "source": [
        "## STFT"
      ]
    },
    {
      "cell_type": "code",
      "metadata": {
        "id": "7Nwmy4ySVgob",
        "colab_type": "code",
        "outputId": "833a4d83-17d9-4f94-bda0-b34d0c274878",
        "colab": {
          "base_uri": "https://localhost:8080/",
          "height": 286
        }
      },
      "source": [
        "y = sig[:100000] # shorten audio a bit for speed\n",
        "\n",
        "window = np.hanning(window_size)\n",
        "stft  = librosa.core.spectrum.stft(y=sig, n_fft=window_size, hop_length=hop_length, window=window)\n",
        "out = 2 * np.abs(stft) / np.sum(window)\n",
        "\n",
        "p = librosa.display.specshow(librosa.amplitude_to_db(out, ref=np.max), ax=ax, y_axis='log', x_axis='time')\n",
        "img_name = filename+'_stft.png'\n",
        "print(img_name)\n",
        "fig.savefig(img_name)\n",
        "\n",
        "img = Image.open(img_name)\n",
        "cropped_img = img.crop(area)\n",
        "plt.axis('off')\n",
        "imgplot = plt.imshow(cropped_img)\n",
        "cropped_img.save(img_name)"
      ],
      "execution_count": 41,
      "outputs": [
        {
          "output_type": "stream",
          "text": [
            "13230_stft.png\n"
          ],
          "name": "stdout"
        },
        {
          "output_type": "display_data",
          "data": {
            "image/png": "[encoded data removed]",
            "text/plain": [
              "<Figure size 432x288 with 1 Axes>"
            ]
          },
          "metadata": {
            "tags": []
          }
        }
      ]
    },
    {
      "cell_type": "markdown",
      "metadata": {
        "id": "UVAmxvhwDPRz",
        "colab_type": "text"
      },
      "source": [
        "# Car Horn"
      ]
    },
    {
      "cell_type": "markdown",
      "metadata": {
        "id": "QLSx25RUDSOo",
        "colab_type": "text"
      },
      "source": [
        "## Downlod file"
      ]
    },
    {
      "cell_type": "code",
      "metadata": {
        "id": "7XyiOVSTDNGq",
        "colab_type": "code",
        "colab": {}
      },
      "source": [
        "!wget https://github.com/SMAHAM/Scene-Recognization/blob/master/UrbanSound_data/car_horn/2937.wav?raw=true -O 2937.wav > /dev/null 2>&1\n",
        "filename = '2937'\n",
        "file_ext = '.wav'\n",
        "#load in librosa\n",
        "sig, rate = librosa.load(filename+file_ext, sr=sr)"
      ],
      "execution_count": 0,
      "outputs": []
    },
    {
      "cell_type": "code",
      "metadata": {
        "id": "ISoB8gKdDrKH",
        "colab_type": "code",
        "colab": {
          "base_uri": "https://localhost:8080/",
          "height": 286
        },
        "outputId": "c7c9c0df-e37c-4ef1-e774-269fdd0197ec"
      },
      "source": [
        "mfcc = librosa.feature.mfcc(y=sig, sr=rate, hop_length=hop_length, n_mfcc=n_mfcc)\n",
        "\n",
        "librosa.display.specshow(mfcc, sr=sr, hop_length=hop_length, ax=ax)\n",
        "img_name = filename+'_mfcc.png'\n",
        "print(img_name)\n",
        "fig.savefig(img_name)\n",
        "\n",
        "img = Image.open(img_name)\n",
        "cropped_img = img.crop(area)\n",
        "plt.axis('off')\n",
        "imgplot = plt.imshow(cropped_img)\n",
        "cropped_img.save(img_name)"
      ],
      "execution_count": 43,
      "outputs": [
        {
          "output_type": "stream",
          "text": [
            "2937_mfcc.png\n"
          ],
          "name": "stdout"
        },
        {
          "output_type": "display_data",
          "data": {
            "image/png": "[encoded data removed]",
            "text/plain": [
              "<Figure size 432x288 with 1 Axes>"
            ]
          },
          "metadata": {
            "tags": []
          }
        }
      ]
    },
    {
      "cell_type": "code",
      "metadata": {
        "id": "5CLmnMOGDsQs",
        "colab_type": "code",
        "colab": {
          "base_uri": "https://localhost:8080/",
          "height": 286
        },
        "outputId": "db5e2426-20d0-432e-ba15-d51ace820df1"
      },
      "source": [
        "y = sig[:100000] # shorten audio a bit for speed\n",
        "\n",
        "window = np.hanning(window_size)\n",
        "stft  = librosa.core.spectrum.stft(y=sig, n_fft=window_size, hop_length=hop_length, window=window)\n",
        "out = 2 * np.abs(stft) / np.sum(window)\n",
        "\n",
        "p = librosa.display.specshow(librosa.amplitude_to_db(out, ref=np.max), ax=ax, y_axis='log', x_axis='time')\n",
        "img_name = filename+'_stft.png'\n",
        "print(img_name)\n",
        "fig.savefig(img_name)\n",
        "\n",
        "img = Image.open(img_name)\n",
        "cropped_img = img.crop(area)\n",
        "plt.axis('off')\n",
        "imgplot = plt.imshow(cropped_img)\n",
        "cropped_img.save(img_name)"
      ],
      "execution_count": 44,
      "outputs": [
        {
          "output_type": "stream",
          "text": [
            "2937_stft.png\n"
          ],
          "name": "stdout"
        },
        {
          "output_type": "display_data",
          "data": {
            "image/png": "[encoded data removed]",
            "text/plain": [
              "<Figure size 432x288 with 1 Axes>"
            ]
          },
          "metadata": {
            "tags": []
          }
        }
      ]
    },
    {
      "cell_type": "code",
      "metadata": {
        "id": "yY_UUF3PVY73",
        "colab_type": "code",
        "outputId": "5fce4532-42bd-4904-a083-3731961d1696",
        "colab": {
          "base_uri": "https://localhost:8080/",
          "height": 221
        }
      },
      "source": [
        "import tensorflow as tf\n",
        "mnist = tf.keras.datasets.mnist\n",
        "\n",
        "(x_train, y_train),(x_test, y_test) = mnist.load_data()\n",
        "x_train, x_test = x_train / 255.0, x_test / 255.0\n",
        "\n",
        "model = tf.keras.models.Sequential([\n",
        "  tf.keras.layers.Flatten(input_shape=(28, 28)),\n",
        "  tf.keras.layers.Dense(512, activation=tf.nn.relu),\n",
        "  tf.keras.layers.Dropout(0.2),\n",
        "  tf.keras.layers.Dense(10, activation=tf.nn.softmax)\n",
        "])\n",
        "model.compile(optimizer='adam',\n",
        "              loss='sparse_categorical_crossentropy',\n",
        "              metrics=['accuracy'])\n",
        "\n",
        "model.fit(x_train, y_train, epochs=5)\n",
        "model.evaluate(x_test, y_test)"
      ],
      "execution_count": 26,
      "outputs": [
        {
          "output_type": "stream",
          "text": [
            "Epoch 1/5\n",
            "60000/60000 [==============================] - 8s 139us/sample - loss: 0.2181 - acc: 0.9356\n",
            "Epoch 2/5\n",
            "60000/60000 [==============================] - 8s 137us/sample - loss: 0.0969 - acc: 0.9703\n",
            "Epoch 3/5\n",
            "60000/60000 [==============================] - 8s 137us/sample - loss: 0.0684 - acc: 0.9779\n",
            "Epoch 4/5\n",
            "60000/60000 [==============================] - 8s 141us/sample - loss: 0.0531 - acc: 0.9830\n",
            "Epoch 5/5\n",
            "60000/60000 [==============================] - 9s 147us/sample - loss: 0.0425 - acc: 0.9859\n",
            "10000/10000 [==============================] - 1s 58us/sample - loss: 0.0628 - acc: 0.9822\n"
          ],
          "name": "stdout"
        },
        {
          "output_type": "execute_result",
          "data": {
            "text/plain": [
              "[0.06279229040378705, 0.9822]"
            ]
          },
          "metadata": {
            "tags": []
          },
          "execution_count": 26
        }
      ]
    },
    {
      "cell_type": "code",
      "metadata": {
        "id": "GXpdpsy6BbPg",
        "colab_type": "code",
        "colab": {
          "base_uri": "https://localhost:8080/",
          "height": 139
        },
        "outputId": "7c4a9be4-7a65-4f3d-9582-4cec6f52de90"
      },
      "source": [
        "pip install download"
      ],
      "execution_count": 45,
      "outputs": [
        {
          "output_type": "stream",
          "text": [
            "Collecting download\n",
            "  Downloading https://files.pythonhosted.org/packages/c2/79/d88026ed8be2da42437023fb30e5401c8e23410a773f37d283c07844e350/download-0.3.3-py2.py3-none-any.whl\n",
            "Requirement already satisfied: six in /usr/local/lib/python3.6/dist-packages (from download) (1.12.0)\n",
            "Requirement already satisfied: tqdm in /usr/local/lib/python3.6/dist-packages (from download) (4.28.1)\n",
            "Installing collected packages: download\n",
            "Successfully installed download-0.3.3\n"
          ],
          "name": "stdout"
        }
      ]
    },
    {
      "cell_type": "code",
      "metadata": {
        "id": "AbmsUS7iTzqY",
        "colab_type": "code",
        "colab": {
          "base_uri": "https://localhost:8080/",
          "height": 34
        },
        "outputId": "2dcc64a2-11cf-4f64-8962-7e9ee8186076"
      },
      "source": [
        "!pwd"
      ],
      "execution_count": 67,
      "outputs": [
        {
          "output_type": "stream",
          "text": [
            "/content\n"
          ],
          "name": "stdout"
        }
      ]
    },
    {
      "cell_type": "code",
      "metadata": {
        "id": "a5CVuHeORf1M",
        "colab_type": "code",
        "colab": {
          "base_uri": "https://localhost:8080/",
          "height": 463
        },
        "outputId": "97ee51b5-f28b-44a1-b81c-2a305bdc072d"
      },
      "source": [
        ""
      ],
      "execution_count": 80,
      "outputs": [
        {
          "output_type": "error",
          "ename": "RuntimeError",
          "evalue": "ignored",
          "traceback": [
            "\u001b[0;31m---------------------------------------------------------------------------\u001b[0m",
            "\u001b[0;31mHTTPError\u001b[0m                                 Traceback (most recent call last)",
            "\u001b[0;32m/usr/local/lib/python3.6/dist-packages/download/download.py\u001b[0m in \u001b[0;36m_fetch_file\u001b[0;34m(url, file_name, resume, hash_, timeout, progressbar, verbose)\u001b[0m\n\u001b[1;32m    180\u001b[0m             \u001b[0;31m# Check file size and displaying it alongside the download url\u001b[0m\u001b[0;34m\u001b[0m\u001b[0;34m\u001b[0m\u001b[0;34m\u001b[0m\u001b[0m\n\u001b[0;32m--> 181\u001b[0;31m             \u001b[0mu\u001b[0m \u001b[0;34m=\u001b[0m \u001b[0murllib\u001b[0m\u001b[0;34m.\u001b[0m\u001b[0mrequest\u001b[0m\u001b[0;34m.\u001b[0m\u001b[0murlopen\u001b[0m\u001b[0;34m(\u001b[0m\u001b[0murl\u001b[0m\u001b[0;34m,\u001b[0m \u001b[0mtimeout\u001b[0m\u001b[0;34m=\u001b[0m\u001b[0mtimeout\u001b[0m\u001b[0;34m)\u001b[0m\u001b[0;34m\u001b[0m\u001b[0;34m\u001b[0m\u001b[0m\n\u001b[0m\u001b[1;32m    182\u001b[0m             \u001b[0mu\u001b[0m\u001b[0;34m.\u001b[0m\u001b[0mclose\u001b[0m\u001b[0;34m(\u001b[0m\u001b[0;34m)\u001b[0m\u001b[0;34m\u001b[0m\u001b[0;34m\u001b[0m\u001b[0m\n",
            "\u001b[0;32m/usr/lib/python3.6/urllib/request.py\u001b[0m in \u001b[0;36murlopen\u001b[0;34m(url, data, timeout, cafile, capath, cadefault, context)\u001b[0m\n\u001b[1;32m    222\u001b[0m         \u001b[0mopener\u001b[0m \u001b[0;34m=\u001b[0m \u001b[0m_opener\u001b[0m\u001b[0;34m\u001b[0m\u001b[0;34m\u001b[0m\u001b[0m\n\u001b[0;32m--> 223\u001b[0;31m     \u001b[0;32mreturn\u001b[0m \u001b[0mopener\u001b[0m\u001b[0;34m.\u001b[0m\u001b[0mopen\u001b[0m\u001b[0;34m(\u001b[0m\u001b[0murl\u001b[0m\u001b[0;34m,\u001b[0m \u001b[0mdata\u001b[0m\u001b[0;34m,\u001b[0m \u001b[0mtimeout\u001b[0m\u001b[0;34m)\u001b[0m\u001b[0;34m\u001b[0m\u001b[0;34m\u001b[0m\u001b[0m\n\u001b[0m\u001b[1;32m    224\u001b[0m \u001b[0;34m\u001b[0m\u001b[0m\n",
            "\u001b[0;32m/usr/lib/python3.6/urllib/request.py\u001b[0m in \u001b[0;36mopen\u001b[0;34m(self, fullurl, data, timeout)\u001b[0m\n\u001b[1;32m    531\u001b[0m             \u001b[0mmeth\u001b[0m \u001b[0;34m=\u001b[0m \u001b[0mgetattr\u001b[0m\u001b[0;34m(\u001b[0m\u001b[0mprocessor\u001b[0m\u001b[0;34m,\u001b[0m \u001b[0mmeth_name\u001b[0m\u001b[0;34m)\u001b[0m\u001b[0;34m\u001b[0m\u001b[0;34m\u001b[0m\u001b[0m\n\u001b[0;32m--> 532\u001b[0;31m             \u001b[0mresponse\u001b[0m \u001b[0;34m=\u001b[0m \u001b[0mmeth\u001b[0m\u001b[0;34m(\u001b[0m\u001b[0mreq\u001b[0m\u001b[0;34m,\u001b[0m \u001b[0mresponse\u001b[0m\u001b[0;34m)\u001b[0m\u001b[0;34m\u001b[0m\u001b[0;34m\u001b[0m\u001b[0m\n\u001b[0m\u001b[1;32m    533\u001b[0m \u001b[0;34m\u001b[0m\u001b[0m\n",
            "\u001b[0;32m/usr/lib/python3.6/urllib/request.py\u001b[0m in \u001b[0;36mhttp_response\u001b[0;34m(self, request, response)\u001b[0m\n\u001b[1;32m    641\u001b[0m             response = self.parent.error(\n\u001b[0;32m--> 642\u001b[0;31m                 'http', request, response, code, msg, hdrs)\n\u001b[0m\u001b[1;32m    643\u001b[0m \u001b[0;34m\u001b[0m\u001b[0m\n",
            "\u001b[0;32m/usr/lib/python3.6/urllib/request.py\u001b[0m in \u001b[0;36merror\u001b[0;34m(self, proto, *args)\u001b[0m\n\u001b[1;32m    569\u001b[0m             \u001b[0margs\u001b[0m \u001b[0;34m=\u001b[0m \u001b[0;34m(\u001b[0m\u001b[0mdict\u001b[0m\u001b[0;34m,\u001b[0m \u001b[0;34m'default'\u001b[0m\u001b[0;34m,\u001b[0m \u001b[0;34m'http_error_default'\u001b[0m\u001b[0;34m)\u001b[0m \u001b[0;34m+\u001b[0m \u001b[0morig_args\u001b[0m\u001b[0;34m\u001b[0m\u001b[0;34m\u001b[0m\u001b[0m\n\u001b[0;32m--> 570\u001b[0;31m             \u001b[0;32mreturn\u001b[0m \u001b[0mself\u001b[0m\u001b[0;34m.\u001b[0m\u001b[0m_call_chain\u001b[0m\u001b[0;34m(\u001b[0m\u001b[0;34m*\u001b[0m\u001b[0margs\u001b[0m\u001b[0;34m)\u001b[0m\u001b[0;34m\u001b[0m\u001b[0;34m\u001b[0m\u001b[0m\n\u001b[0m\u001b[1;32m    571\u001b[0m \u001b[0;34m\u001b[0m\u001b[0m\n",
            "\u001b[0;32m/usr/lib/python3.6/urllib/request.py\u001b[0m in \u001b[0;36m_call_chain\u001b[0;34m(self, chain, kind, meth_name, *args)\u001b[0m\n\u001b[1;32m    503\u001b[0m             \u001b[0mfunc\u001b[0m \u001b[0;34m=\u001b[0m \u001b[0mgetattr\u001b[0m\u001b[0;34m(\u001b[0m\u001b[0mhandler\u001b[0m\u001b[0;34m,\u001b[0m \u001b[0mmeth_name\u001b[0m\u001b[0;34m)\u001b[0m\u001b[0;34m\u001b[0m\u001b[0;34m\u001b[0m\u001b[0m\n\u001b[0;32m--> 504\u001b[0;31m             \u001b[0mresult\u001b[0m \u001b[0;34m=\u001b[0m \u001b[0mfunc\u001b[0m\u001b[0;34m(\u001b[0m\u001b[0;34m*\u001b[0m\u001b[0margs\u001b[0m\u001b[0;34m)\u001b[0m\u001b[0;34m\u001b[0m\u001b[0;34m\u001b[0m\u001b[0m\n\u001b[0m\u001b[1;32m    505\u001b[0m             \u001b[0;32mif\u001b[0m \u001b[0mresult\u001b[0m \u001b[0;32mis\u001b[0m \u001b[0;32mnot\u001b[0m \u001b[0;32mNone\u001b[0m\u001b[0;34m:\u001b[0m\u001b[0;34m\u001b[0m\u001b[0;34m\u001b[0m\u001b[0m\n",
            "\u001b[0;32m/usr/lib/python3.6/urllib/request.py\u001b[0m in \u001b[0;36mhttp_error_default\u001b[0;34m(self, req, fp, code, msg, hdrs)\u001b[0m\n\u001b[1;32m    649\u001b[0m     \u001b[0;32mdef\u001b[0m \u001b[0mhttp_error_default\u001b[0m\u001b[0;34m(\u001b[0m\u001b[0mself\u001b[0m\u001b[0;34m,\u001b[0m \u001b[0mreq\u001b[0m\u001b[0;34m,\u001b[0m \u001b[0mfp\u001b[0m\u001b[0;34m,\u001b[0m \u001b[0mcode\u001b[0m\u001b[0;34m,\u001b[0m \u001b[0mmsg\u001b[0m\u001b[0;34m,\u001b[0m \u001b[0mhdrs\u001b[0m\u001b[0;34m)\u001b[0m\u001b[0;34m:\u001b[0m\u001b[0;34m\u001b[0m\u001b[0;34m\u001b[0m\u001b[0m\n\u001b[0;32m--> 650\u001b[0;31m         \u001b[0;32mraise\u001b[0m \u001b[0mHTTPError\u001b[0m\u001b[0;34m(\u001b[0m\u001b[0mreq\u001b[0m\u001b[0;34m.\u001b[0m\u001b[0mfull_url\u001b[0m\u001b[0;34m,\u001b[0m \u001b[0mcode\u001b[0m\u001b[0;34m,\u001b[0m \u001b[0mmsg\u001b[0m\u001b[0;34m,\u001b[0m \u001b[0mhdrs\u001b[0m\u001b[0;34m,\u001b[0m \u001b[0mfp\u001b[0m\u001b[0;34m)\u001b[0m\u001b[0;34m\u001b[0m\u001b[0;34m\u001b[0m\u001b[0m\n\u001b[0m\u001b[1;32m    651\u001b[0m \u001b[0;34m\u001b[0m\u001b[0m\n",
            "\u001b[0;31mHTTPError\u001b[0m: HTTP Error 403: Forbidden",
            "\nDuring handling of the above exception, another exception occurred:\n",
            "\u001b[0;31mRuntimeError\u001b[0m                              Traceback (most recent call last)",
            "\u001b[0;32m<ipython-input-80-3389c089a880>\u001b[0m in \u001b[0;36m<module>\u001b[0;34m()\u001b[0m\n\u001b[1;32m      2\u001b[0m \u001b[0murl\u001b[0m \u001b[0;34m=\u001b[0m \u001b[0;34m'https://media.glassdoor.com/l/a1/65/ab/b0/our-office.jpg'\u001b[0m\u001b[0;34m\u001b[0m\u001b[0;34m\u001b[0m\u001b[0m\n\u001b[1;32m      3\u001b[0m \u001b[0;32mfrom\u001b[0m \u001b[0mdownload\u001b[0m \u001b[0;32mimport\u001b[0m \u001b[0mdownload\u001b[0m\u001b[0;34m\u001b[0m\u001b[0;34m\u001b[0m\u001b[0m\n\u001b[0;32m----> 4\u001b[0;31m \u001b[0mthis\u001b[0m \u001b[0;34m=\u001b[0m \u001b[0mdownload\u001b[0m\u001b[0;34m(\u001b[0m\u001b[0murl\u001b[0m\u001b[0;34m,\u001b[0m\u001b[0;34m'./our-office.jpg'\u001b[0m\u001b[0;34m,\u001b[0m \u001b[0mverbose\u001b[0m\u001b[0;34m=\u001b[0m\u001b[0;32mFalse\u001b[0m\u001b[0;34m)\u001b[0m\u001b[0;34m\u001b[0m\u001b[0;34m\u001b[0m\u001b[0m\n\u001b[0m",
            "\u001b[0;32m/usr/local/lib/python3.6/dist-packages/download/download.py\u001b[0m in \u001b[0;36mdownload\u001b[0;34m(url, path, kind, progressbar, replace, verbose)\u001b[0m\n\u001b[1;32m    104\u001b[0m         \u001b[0;32mif\u001b[0m \u001b[0;32mnot\u001b[0m \u001b[0mop\u001b[0m\u001b[0;34m.\u001b[0m\u001b[0misdir\u001b[0m\u001b[0;34m(\u001b[0m\u001b[0mop\u001b[0m\u001b[0;34m.\u001b[0m\u001b[0mdirname\u001b[0m\u001b[0;34m(\u001b[0m\u001b[0mpath\u001b[0m\u001b[0;34m)\u001b[0m\u001b[0;34m)\u001b[0m\u001b[0;34m:\u001b[0m\u001b[0;34m\u001b[0m\u001b[0;34m\u001b[0m\u001b[0m\n\u001b[1;32m    105\u001b[0m             \u001b[0mos\u001b[0m\u001b[0;34m.\u001b[0m\u001b[0mmakedirs\u001b[0m\u001b[0;34m(\u001b[0m\u001b[0mop\u001b[0m\u001b[0;34m.\u001b[0m\u001b[0mdirname\u001b[0m\u001b[0;34m(\u001b[0m\u001b[0mpath\u001b[0m\u001b[0;34m)\u001b[0m\u001b[0;34m)\u001b[0m\u001b[0;34m\u001b[0m\u001b[0;34m\u001b[0m\u001b[0m\n\u001b[0;32m--> 106\u001b[0;31m         \u001b[0m_fetch_file\u001b[0m\u001b[0;34m(\u001b[0m\u001b[0mdownload_url\u001b[0m\u001b[0;34m,\u001b[0m \u001b[0mpath\u001b[0m\u001b[0;34m,\u001b[0m \u001b[0mverbose\u001b[0m\u001b[0;34m=\u001b[0m\u001b[0mverbose\u001b[0m\u001b[0;34m)\u001b[0m\u001b[0;34m\u001b[0m\u001b[0;34m\u001b[0m\u001b[0m\n\u001b[0m\u001b[1;32m    107\u001b[0m         \u001b[0mmsg\u001b[0m \u001b[0;34m=\u001b[0m \u001b[0;34m'Successfully downloaded file to {}'\u001b[0m\u001b[0;34m.\u001b[0m\u001b[0mformat\u001b[0m\u001b[0;34m(\u001b[0m\u001b[0mpath\u001b[0m\u001b[0;34m)\u001b[0m\u001b[0;34m\u001b[0m\u001b[0;34m\u001b[0m\u001b[0m\n\u001b[1;32m    108\u001b[0m     \u001b[0;32mif\u001b[0m \u001b[0mverbose\u001b[0m\u001b[0;34m:\u001b[0m\u001b[0;34m\u001b[0m\u001b[0;34m\u001b[0m\u001b[0m\n",
            "\u001b[0;32m/usr/local/lib/python3.6/dist-packages/download/download.py\u001b[0m in \u001b[0;36m_fetch_file\u001b[0;34m(url, file_name, resume, hash_, timeout, progressbar, verbose)\u001b[0m\n\u001b[1;32m    227\u001b[0m     \u001b[0;32mexcept\u001b[0m \u001b[0mException\u001b[0m \u001b[0;32mas\u001b[0m \u001b[0mee\u001b[0m\u001b[0;34m:\u001b[0m\u001b[0;34m\u001b[0m\u001b[0;34m\u001b[0m\u001b[0m\n\u001b[1;32m    228\u001b[0m         raise RuntimeError('Error while fetching file %s.'\n\u001b[0;32m--> 229\u001b[0;31m                            ' Dataset fetching aborted.\\nError: %s' % (url, ee))\n\u001b[0m\u001b[1;32m    230\u001b[0m \u001b[0;34m\u001b[0m\u001b[0m\n\u001b[1;32m    231\u001b[0m \u001b[0;34m\u001b[0m\u001b[0m\n",
            "\u001b[0;31mRuntimeError\u001b[0m: Error while fetching file https://media.glassdoor.com/l/a1/65/ab/b0/our-office.jpg. Dataset fetching aborted.\nError: HTTP Error 403: Forbidden"
          ]
        }
      ]
    },
    {
      "cell_type": "code",
      "metadata": {
        "id": "dHDHgVYNR1Wa",
        "colab_type": "code",
        "colab": {
          "base_uri": "https://localhost:8080/",
          "height": 119
        },
        "outputId": "bc1c1140-71f4-4238-854e-1cf26c53141c"
      },
      "source": [
        "import inspect\n",
        "inspect.signature(download).parameters"
      ],
      "execution_count": 49,
      "outputs": [
        {
          "output_type": "execute_result",
          "data": {
            "text/plain": [
              "mappingproxy({'kind': <Parameter \"kind='file'\">,\n",
              "              'path': <Parameter \"path\">,\n",
              "              'progressbar': <Parameter \"progressbar=True\">,\n",
              "              'replace': <Parameter \"replace=False\">,\n",
              "              'url': <Parameter \"url\">,\n",
              "              'verbose': <Parameter \"verbose=True\">})"
            ]
          },
          "metadata": {
            "tags": []
          },
          "execution_count": 49
        }
      ]
    },
    {
      "cell_type": "code",
      "metadata": {
        "id": "qrTs-xNASFSq",
        "colab_type": "code",
        "colab": {
          "base_uri": "https://localhost:8080/",
          "height": 34
        },
        "outputId": "cf449ecd-bc03-4e78-ddaa-5297be35f74b"
      },
      "source": [
        "url = 'https://github.com/SMAHAM/Scene-Recognization/blob/master/UrbanSound_data/children_playing/13579.mp3'\n",
        "url.rsplit('/', 1)[-1]"
      ],
      "execution_count": 81,
      "outputs": [
        {
          "output_type": "execute_result",
          "data": {
            "text/plain": [
              "'13579.mp3'"
            ]
          },
          "metadata": {
            "tags": []
          },
          "execution_count": 81
        }
      ]
    },
    {
      "cell_type": "code",
      "metadata": {
        "id": "MJerEwh4Yy8S",
        "colab_type": "code",
        "colab": {}
      },
      "source": [
        ""
      ],
      "execution_count": 0,
      "outputs": []
    }
  ]
}