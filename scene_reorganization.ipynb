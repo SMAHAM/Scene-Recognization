{
  "nbformat": 4,
  "nbformat_minor": 0,
  "metadata": {
    "colab": {
      "name": "scene-reorganization.ipynb",
      "version": "0.3.2",
      "provenance": [],
      "toc_visible": true,
      "include_colab_link": true
    },
    "kernelspec": {
      "name": "python3",
      "display_name": "Python 3"
    }
  },
  "cells": [
    {
      "cell_type": "markdown",
      "metadata": {
        "id": "view-in-github",
        "colab_type": "text"
      },
      "source": [
        "<a href=\"https://colab.research.google.com/github/SMAHAM/Scene-Recognization/blob/master/scene_reorganization.ipynb\" target=\"_parent\"><img src=\"https://colab.research.google.com/assets/colab-badge.svg\" alt=\"Open In Colab\"/></a>"
      ]
    },
    {
      "cell_type": "markdown",
      "metadata": {
        "id": "l8j6uzl9V9Xz",
        "colab_type": "text"
      },
      "source": [
        "# Multimodal scene reorganization for audio Categorization"
      ]
    },
    {
      "cell_type": "code",
      "metadata": {
        "id": "eun53i9WWboe",
        "colab_type": "code",
        "colab": {
          "base_uri": "https://localhost:8080/",
          "height": 222
        },
        "outputId": "18a4bcf0-ce03-4809-ea24-ed25124f08c7"
      },
      "source": [
        "!wget https://github.com/SMAHAM/Scene-Recognization/blob/master/UrbanSound_data/air_conditioner/13230.mp3 -O data.mp3"
      ],
      "execution_count": 4,
      "outputs": [
        {
          "output_type": "stream",
          "text": [
            "--2019-06-08 18:29:57--  https://github.com/SMAHAM/Scene-Recognization/blob/master/UrbanSound_data/air_conditioner/13230.mp3\n",
            "Resolving github.com (github.com)... 192.30.253.112\n",
            "Connecting to github.com (github.com)|192.30.253.112|:443... connected.\n",
            "HTTP request sent, awaiting response... 200 OK\n",
            "Length: unspecified [text/html]\n",
            "Saving to: ‘data.mp3’\n",
            "\n",
            "\rdata.mp3                [<=>                 ]       0  --.-KB/s               \rdata.mp3                [ <=>                ]  64.36K  --.-KB/s    in 0.03s   \n",
            "\n",
            "2019-06-08 18:29:57 (2.43 MB/s) - ‘data.mp3’ saved [65905]\n",
            "\n"
          ],
          "name": "stdout"
        }
      ]
    },
    {
      "cell_type": "code",
      "metadata": {
        "id": "yY_UUF3PVY73",
        "colab_type": "code",
        "colab": {
          "base_uri": "https://localhost:8080/",
          "height": 373
        },
        "outputId": "89848bde-0031-4bc3-ba61-d0577c6099f1"
      },
      "source": [
        "import tensorflow as tf\n",
        "mnist = tf.keras.datasets.mnist\n",
        "\n",
        "(x_train, y_train),(x_test, y_test) = mnist.load_data()\n",
        "x_train, x_test = x_train / 255.0, x_test / 255.0\n",
        "\n",
        "model = tf.keras.models.Sequential([\n",
        "  tf.keras.layers.Flatten(input_shape=(28, 28)),\n",
        "  tf.keras.layers.Dense(512, activation=tf.nn.relu),\n",
        "  tf.keras.layers.Dropout(0.2),\n",
        "  tf.keras.layers.Dense(10, activation=tf.nn.softmax)\n",
        "])\n",
        "model.compile(optimizer='adam',\n",
        "              loss='sparse_categorical_crossentropy',\n",
        "              metrics=['accuracy'])\n",
        "\n",
        "model.fit(x_train, y_train, epochs=5)\n",
        "model.evaluate(x_test, y_test)"
      ],
      "execution_count": 1,
      "outputs": [
        {
          "output_type": "stream",
          "text": [
            "Downloading data from https://storage.googleapis.com/tensorflow/tf-keras-datasets/mnist.npz\n",
            "11493376/11490434 [==============================] - 0s 0us/step\n",
            "WARNING:tensorflow:From /usr/local/lib/python3.6/dist-packages/tensorflow/python/ops/resource_variable_ops.py:435: colocate_with (from tensorflow.python.framework.ops) is deprecated and will be removed in a future version.\n",
            "Instructions for updating:\n",
            "Colocations handled automatically by placer.\n",
            "WARNING:tensorflow:From /usr/local/lib/python3.6/dist-packages/tensorflow/python/keras/layers/core.py:143: calling dropout (from tensorflow.python.ops.nn_ops) with keep_prob is deprecated and will be removed in a future version.\n",
            "Instructions for updating:\n",
            "Please use `rate` instead of `keep_prob`. Rate should be set to `rate = 1 - keep_prob`.\n",
            "Epoch 1/5\n",
            "60000/60000 [==============================] - 15s 258us/sample - loss: 0.2227 - acc: 0.9333\n",
            "Epoch 2/5\n",
            "60000/60000 [==============================] - 15s 253us/sample - loss: 0.0968 - acc: 0.9705\n",
            "Epoch 3/5\n",
            "60000/60000 [==============================] - 15s 248us/sample - loss: 0.0699 - acc: 0.9785\n",
            "Epoch 4/5\n",
            "60000/60000 [==============================] - 15s 246us/sample - loss: 0.0531 - acc: 0.9834\n",
            "Epoch 5/5\n",
            "60000/60000 [==============================] - 15s 249us/sample - loss: 0.0453 - acc: 0.9856\n",
            "10000/10000 [==============================] - 1s 60us/sample - loss: 0.0635 - acc: 0.9811\n"
          ],
          "name": "stdout"
        },
        {
          "output_type": "execute_result",
          "data": {
            "text/plain": [
              "[0.06351860023886838, 0.9811]"
            ]
          },
          "metadata": {
            "tags": []
          },
          "execution_count": 1
        }
      ]
    }
  ]
}