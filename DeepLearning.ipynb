{
  "nbformat": 4,
  "nbformat_minor": 0,
  "metadata": {
    "colab": {
      "name": "DeepLearning.ipynb",
      "version": "0.3.2",
      "provenance": [],
      "collapsed_sections": [],
      "include_colab_link": true
    },
    "kernelspec": {
      "name": "python3",
      "display_name": "Python 3"
    },
    "accelerator": "GPU"
  },
  "cells": [
    {
      "cell_type": "markdown",
      "metadata": {
        "id": "view-in-github",
        "colab_type": "text"
      },
      "source": [
        "<a href=\"https://colab.research.google.com/github/SMAHAM/Scene-Recognization/blob/master/DeepLearning.ipynb\" target=\"_parent\"><img src=\"https://colab.research.google.com/assets/colab-badge.svg\" alt=\"Open In Colab\"/></a>"
      ]
    },
    {
      "cell_type": "code",
      "metadata": {
        "id": "ZkGZ9j-uaprc",
        "colab_type": "code",
        "outputId": "9501367e-17b5-43b0-dae7-ad9d31efbe5f",
        "colab": {
          "base_uri": "https://localhost:8080/",
          "height": 34
        }
      },
      "source": [
        "import keras\n",
        "from keras import Sequential\n",
        "from keras.layers import Dense"
      ],
      "execution_count": 1,
      "outputs": [
        {
          "output_type": "stream",
          "text": [
            "Using TensorFlow backend.\n"
          ],
          "name": "stderr"
        }
      ]
    },
    {
      "cell_type": "code",
      "metadata": {
        "id": "-FMLmCqvaw3U",
        "colab_type": "code",
        "outputId": "35bef72c-c195-4373-8f28-dd2167c962d0",
        "colab": {
          "base_uri": "https://localhost:8080/",
          "height": 309
        }
      },
      "source": [
        "vgg16_model=keras.applications.vgg16.VGG16(weights='imagenet')\n",
        "#remove last layer\n",
        "vgg16_model.layers.pop()\n",
        "#vgg16_model.summary()"
      ],
      "execution_count": 2,
      "outputs": [
        {
          "output_type": "stream",
          "text": [
            "WARNING: Logging before flag parsing goes to stderr.\n",
            "W0706 17:13:29.710727 140055523731328 deprecation_wrapper.py:119] From /usr/local/lib/python3.6/dist-packages/keras/backend/tensorflow_backend.py:74: The name tf.get_default_graph is deprecated. Please use tf.compat.v1.get_default_graph instead.\n",
            "\n",
            "W0706 17:13:29.759566 140055523731328 deprecation_wrapper.py:119] From /usr/local/lib/python3.6/dist-packages/keras/backend/tensorflow_backend.py:517: The name tf.placeholder is deprecated. Please use tf.compat.v1.placeholder instead.\n",
            "\n",
            "W0706 17:13:29.765652 140055523731328 deprecation_wrapper.py:119] From /usr/local/lib/python3.6/dist-packages/keras/backend/tensorflow_backend.py:4138: The name tf.random_uniform is deprecated. Please use tf.random.uniform instead.\n",
            "\n",
            "W0706 17:13:29.807122 140055523731328 deprecation_wrapper.py:119] From /usr/local/lib/python3.6/dist-packages/keras/backend/tensorflow_backend.py:3976: The name tf.nn.max_pool is deprecated. Please use tf.nn.max_pool2d instead.\n",
            "\n"
          ],
          "name": "stderr"
        },
        {
          "output_type": "stream",
          "text": [
            "Downloading data from https://github.com/fchollet/deep-learning-models/releases/download/v0.1/vgg16_weights_tf_dim_ordering_tf_kernels.h5\n",
            "553467904/553467096 [==============================] - 8s 0us/step\n"
          ],
          "name": "stdout"
        },
        {
          "output_type": "stream",
          "text": [
            "W0706 17:13:38.408286 140055523731328 deprecation_wrapper.py:119] From /usr/local/lib/python3.6/dist-packages/keras/backend/tensorflow_backend.py:174: The name tf.get_default_session is deprecated. Please use tf.compat.v1.get_default_session instead.\n",
            "\n",
            "W0706 17:13:38.409325 140055523731328 deprecation_wrapper.py:119] From /usr/local/lib/python3.6/dist-packages/keras/backend/tensorflow_backend.py:181: The name tf.ConfigProto is deprecated. Please use tf.compat.v1.ConfigProto instead.\n",
            "\n"
          ],
          "name": "stderr"
        },
        {
          "output_type": "execute_result",
          "data": {
            "text/plain": [
              "<keras.layers.core.Dense at 0x7f60edc3f0f0>"
            ]
          },
          "metadata": {
            "tags": []
          },
          "execution_count": 2
        }
      ]
    },
    {
      "cell_type": "code",
      "metadata": {
        "id": "apmuaO2JbYcw",
        "colab_type": "code",
        "outputId": "d09c8891-d4f2-4df0-a608-04b9f72971bf",
        "colab": {
          "base_uri": "https://localhost:8080/",
          "height": 34
        }
      },
      "source": [
        "type(vgg16_model)"
      ],
      "execution_count": 6,
      "outputs": [
        {
          "output_type": "execute_result",
          "data": {
            "text/plain": [
              "keras.engine.training.Model"
            ]
          },
          "metadata": {
            "tags": []
          },
          "execution_count": 6
        }
      ]
    },
    {
      "cell_type": "code",
      "metadata": {
        "id": "7v8Ss6Txb31Z",
        "colab_type": "code",
        "colab": {}
      },
      "source": [
        "model = Sequential()\n",
        "for layer in vgg16_model.layers:\n",
        "  model.add(layer)"
      ],
      "execution_count": 0,
      "outputs": []
    },
    {
      "cell_type": "code",
      "metadata": {
        "id": "X-pYjMMZdmO6",
        "colab_type": "code",
        "colab": {}
      },
      "source": [
        "#model.summary()"
      ],
      "execution_count": 0,
      "outputs": []
    },
    {
      "cell_type": "code",
      "metadata": {
        "id": "k0qtxmVAcFnA",
        "colab_type": "code",
        "colab": {}
      },
      "source": [
        "model.add(Dense(10,name=\"predictions\", activation ='softmax'))"
      ],
      "execution_count": 0,
      "outputs": []
    },
    {
      "cell_type": "code",
      "metadata": {
        "id": "qI9uikJGdDmc",
        "colab_type": "code",
        "outputId": "bf86657c-f3c0-4bbe-e363-7edd485ede96",
        "colab": {
          "base_uri": "https://localhost:8080/",
          "height": 884
        }
      },
      "source": [
        "model.summary()"
      ],
      "execution_count": 8,
      "outputs": [
        {
          "output_type": "stream",
          "text": [
            "_________________________________________________________________\n",
            "Layer (type)                 Output Shape              Param #   \n",
            "=================================================================\n",
            "block1_conv1 (Conv2D)        (None, 224, 224, 64)      1792      \n",
            "_________________________________________________________________\n",
            "block1_conv2 (Conv2D)        (None, 224, 224, 64)      36928     \n",
            "_________________________________________________________________\n",
            "block1_pool (MaxPooling2D)   (None, 112, 112, 64)      0         \n",
            "_________________________________________________________________\n",
            "block2_conv1 (Conv2D)        (None, 112, 112, 128)     73856     \n",
            "_________________________________________________________________\n",
            "block2_conv2 (Conv2D)        (None, 112, 112, 128)     147584    \n",
            "_________________________________________________________________\n",
            "block2_pool (MaxPooling2D)   (None, 56, 56, 128)       0         \n",
            "_________________________________________________________________\n",
            "block3_conv1 (Conv2D)        (None, 56, 56, 256)       295168    \n",
            "_________________________________________________________________\n",
            "block3_conv2 (Conv2D)        (None, 56, 56, 256)       590080    \n",
            "_________________________________________________________________\n",
            "block3_conv3 (Conv2D)        (None, 56, 56, 256)       590080    \n",
            "_________________________________________________________________\n",
            "block3_pool (MaxPooling2D)   (None, 28, 28, 256)       0         \n",
            "_________________________________________________________________\n",
            "block4_conv1 (Conv2D)        (None, 28, 28, 512)       1180160   \n",
            "_________________________________________________________________\n",
            "block4_conv2 (Conv2D)        (None, 28, 28, 512)       2359808   \n",
            "_________________________________________________________________\n",
            "block4_conv3 (Conv2D)        (None, 28, 28, 512)       2359808   \n",
            "_________________________________________________________________\n",
            "block4_pool (MaxPooling2D)   (None, 14, 14, 512)       0         \n",
            "_________________________________________________________________\n",
            "block5_conv1 (Conv2D)        (None, 14, 14, 512)       2359808   \n",
            "_________________________________________________________________\n",
            "block5_conv2 (Conv2D)        (None, 14, 14, 512)       2359808   \n",
            "_________________________________________________________________\n",
            "block5_conv3 (Conv2D)        (None, 14, 14, 512)       2359808   \n",
            "_________________________________________________________________\n",
            "block5_pool (MaxPooling2D)   (None, 7, 7, 512)         0         \n",
            "_________________________________________________________________\n",
            "flatten (Flatten)            (None, 25088)             0         \n",
            "_________________________________________________________________\n",
            "fc1 (Dense)                  (None, 4096)              102764544 \n",
            "_________________________________________________________________\n",
            "fc2 (Dense)                  (None, 4096)              16781312  \n",
            "_________________________________________________________________\n",
            "predictions (Dense)          (None, 10)                40970     \n",
            "=================================================================\n",
            "Total params: 134,301,514\n",
            "Trainable params: 134,301,514\n",
            "Non-trainable params: 0\n",
            "_________________________________________________________________\n"
          ],
          "name": "stdout"
        }
      ]
    },
    {
      "cell_type": "code",
      "metadata": {
        "id": "GT0ddnUT8qjC",
        "colab_type": "code",
        "outputId": "6bf86b3a-d6ec-45a6-9cc2-93eda72966d8",
        "colab": {
          "base_uri": "https://localhost:8080/",
          "height": 34
        }
      },
      "source": [
        "# Run this cell to mount your Google Drive.\n",
        "from google.colab import drive\n",
        "drive.mount('/content/drive')"
      ],
      "execution_count": 10,
      "outputs": [
        {
          "output_type": "stream",
          "text": [
            "Drive already mounted at /content/drive; to attempt to forcibly remount, call drive.mount(\"/content/drive\", force_remount=True).\n"
          ],
          "name": "stdout"
        }
      ]
    },
    {
      "cell_type": "code",
      "metadata": {
        "id": "SwjE36bqdF7H",
        "colab_type": "code",
        "outputId": "4b4f4161-d0d1-44b1-8c06-9f2bb70b6661",
        "colab": {
          "base_uri": "https://localhost:8080/",
          "height": 34
        }
      },
      "source": [
        "cd /content/drive/Shared\\ drives/ELE888_Syeda/UrbanSound/mfcc/"
      ],
      "execution_count": 11,
      "outputs": [
        {
          "output_type": "stream",
          "text": [
            "/content/drive/Shared drives/ELE888_Syeda/UrbanSound/mfcc\n"
          ],
          "name": "stdout"
        }
      ]
    },
    {
      "cell_type": "code",
      "metadata": {
        "id": "ffY3W-dhoXKB",
        "colab_type": "code",
        "outputId": "75dc05d5-2ba0-4542-8db3-0e6f1b15bda2",
        "colab": {
          "base_uri": "https://localhost:8080/",
          "height": 119
        }
      },
      "source": [
        "ls"
      ],
      "execution_count": 12,
      "outputs": [
        {
          "output_type": "stream",
          "text": [
            "\u001b[0m\u001b[01;34mair_conditioner\u001b[0m/      \u001b[01;34mdog_bark\u001b[0m/          \u001b[01;34mgun_shot\u001b[0m/       siren.tar\n",
            "air_conditioner.tar   dog_bark.tar       gun_shot.tar    \u001b[01;34mstreet_music\u001b[0m/\n",
            "\u001b[01;34mcar_horn\u001b[0m/             \u001b[01;34mdrilling\u001b[0m/          \u001b[01;34mjackhammer\u001b[0m/     street_music.tar\n",
            "car_horn.tar          drilling.tar       jackhammer.tar\n",
            "\u001b[01;34mchildren_playing\u001b[0m/     \u001b[01;34mengine_idling\u001b[0m/     \u001b[01;34mmfcc\u001b[0m/\n",
            "children_playing.tar  engine_idling.tar  \u001b[01;34msiren\u001b[0m/\n"
          ],
          "name": "stdout"
        }
      ]
    },
    {
      "cell_type": "code",
      "metadata": {
        "id": "kH9q19PUsobV",
        "colab_type": "code",
        "outputId": "2b2b5b05-f233-4149-e2e2-25e2c576bad1",
        "colab": {
          "base_uri": "https://localhost:8080/",
          "height": 34
        }
      },
      "source": [
        "ls -1 air_conditioner | wc -l"
      ],
      "execution_count": 13,
      "outputs": [
        {
          "output_type": "stream",
          "text": [
            "5125\n"
          ],
          "name": "stdout"
        }
      ]
    },
    {
      "cell_type": "code",
      "metadata": {
        "id": "GMeoD7YyspKc",
        "colab_type": "code",
        "outputId": "89c370e5-4beb-449f-e9b9-3a24bb9b9b32",
        "colab": {
          "base_uri": "https://localhost:8080/",
          "height": 34
        }
      },
      "source": [
        "ls -1 gun_shot | wc -l"
      ],
      "execution_count": 14,
      "outputs": [
        {
          "output_type": "stream",
          "text": [
            "2073\n"
          ],
          "name": "stdout"
        }
      ]
    },
    {
      "cell_type": "code",
      "metadata": {
        "id": "iXydM4MZsyP-",
        "colab_type": "code",
        "outputId": "89724ffe-b196-40d9-e040-fb641e2ac286",
        "colab": {
          "base_uri": "https://localhost:8080/",
          "height": 34
        }
      },
      "source": [
        "ls -1 car_horn | wc -l"
      ],
      "execution_count": 15,
      "outputs": [
        {
          "output_type": "stream",
          "text": [
            "2279\n"
          ],
          "name": "stdout"
        }
      ]
    },
    {
      "cell_type": "code",
      "metadata": {
        "id": "mdfy6mn8vGIa",
        "colab_type": "code",
        "outputId": "05c3d935-15b7-4ac6-e315-f08dcb65221b",
        "colab": {
          "base_uri": "https://localhost:8080/",
          "height": 51
        }
      },
      "source": [
        "ls -1 dog_bark | wc -l"
      ],
      "execution_count": 16,
      "outputs": [
        {
          "output_type": "stream",
          "text": [
            "ls: cannot open directory 'dog_bark': Input/output error\n",
            "0\n"
          ],
          "name": "stdout"
        }
      ]
    },
    {
      "cell_type": "code",
      "metadata": {
        "id": "x7rqpXim-sBH",
        "colab_type": "code",
        "outputId": "c68c05c3-ee56-4994-aec0-1d665cf109c7",
        "colab": {
          "base_uri": "https://localhost:8080/",
          "height": 51
        }
      },
      "source": [
        "ls -1 drilling | wc -l"
      ],
      "execution_count": 17,
      "outputs": [
        {
          "output_type": "stream",
          "text": [
            "ls: cannot open directory 'drilling': Input/output error\n",
            "0\n"
          ],
          "name": "stdout"
        }
      ]
    },
    {
      "cell_type": "code",
      "metadata": {
        "id": "EU_jWXM-UrQb",
        "colab_type": "code",
        "outputId": "7a71211c-b867-41d3-90a3-88f54ae1e927",
        "colab": {
          "base_uri": "https://localhost:8080/",
          "height": 34
        }
      },
      "source": [
        "ls -1 children_playing | wc -l"
      ],
      "execution_count": 18,
      "outputs": [
        {
          "output_type": "stream",
          "text": [
            "17092\n"
          ],
          "name": "stdout"
        }
      ]
    },
    {
      "cell_type": "code",
      "metadata": {
        "id": "ouMkEsgCRSOR",
        "colab_type": "code",
        "outputId": "e52125db-e83c-4036-ddc1-5631bd528f68",
        "colab": {
          "base_uri": "https://localhost:8080/",
          "height": 34
        }
      },
      "source": [
        "ls -1 jackhammer | wc -l"
      ],
      "execution_count": 19,
      "outputs": [
        {
          "output_type": "stream",
          "text": [
            "3409\n"
          ],
          "name": "stdout"
        }
      ]
    },
    {
      "cell_type": "code",
      "metadata": {
        "id": "6S1uJUQbwAyP",
        "colab_type": "code",
        "outputId": "a108bc46-e264-4434-b700-5b6fddeca539",
        "colab": {
          "base_uri": "https://localhost:8080/",
          "height": 34
        }
      },
      "source": [
        "ls -1 siren | wc -l"
      ],
      "execution_count": 20,
      "outputs": [
        {
          "output_type": "stream",
          "text": [
            "2148\n"
          ],
          "name": "stdout"
        }
      ]
    },
    {
      "cell_type": "code",
      "metadata": {
        "id": "HPi-0TdoBizc",
        "colab_type": "code",
        "outputId": "6703ebd1-b9b6-4b48-88f9-37d0ecfe5d45",
        "colab": {
          "base_uri": "https://localhost:8080/",
          "height": 34
        }
      },
      "source": [
        "ls -1 engine_idling | wc -l"
      ],
      "execution_count": 21,
      "outputs": [
        {
          "output_type": "stream",
          "text": [
            "2887\n"
          ],
          "name": "stdout"
        }
      ]
    },
    {
      "cell_type": "code",
      "metadata": {
        "id": "NRHsxhteBlV6",
        "colab_type": "code",
        "outputId": "7560b36a-36ad-4c2e-c95c-d074f066822d",
        "colab": {
          "base_uri": "https://localhost:8080/",
          "height": 34
        }
      },
      "source": [
        "ls -l street_music | wc -l"
      ],
      "execution_count": 22,
      "outputs": [
        {
          "output_type": "stream",
          "text": [
            "21801\n"
          ],
          "name": "stdout"
        }
      ]
    },
    {
      "cell_type": "code",
      "metadata": {
        "id": "HQ2IlGlVHCtf",
        "colab_type": "code",
        "outputId": "f95187a4-46f3-4cc3-afd0-7908adc52f96",
        "colab": {
          "base_uri": "https://localhost:8080/",
          "height": 34
        }
      },
      "source": [
        "pwd"
      ],
      "execution_count": 23,
      "outputs": [
        {
          "output_type": "execute_result",
          "data": {
            "text/plain": [
              "'/content/drive/Shared drives/ELE888_Syeda/UrbanSound/mfcc'"
            ]
          },
          "metadata": {
            "tags": []
          },
          "execution_count": 23
        }
      ]
    },
    {
      "cell_type": "code",
      "metadata": {
        "id": "AA5axC1NKd32",
        "colab_type": "code",
        "outputId": "1b39c83d-f95e-432c-94f4-3ae8f7011821",
        "colab": {
          "base_uri": "https://localhost:8080/",
          "height": 105
        }
      },
      "source": [
        "import os\n",
        "import glob\n",
        "import json\n",
        "#list of labels\n",
        "class_labels=[\n",
        "'air_conditioner',\n",
        "'car_horn',\n",
        "'children_playing',\n",
        "'dog_bark',\n",
        "'drilling',\n",
        "'engine_idling',\n",
        "'gun_shot',\n",
        "'jackhammer',\n",
        "'siren',\n",
        "'street_music'\n",
        "]\n",
        "\n",
        "path = '/content/drive/Shared drives/ELE888_Syeda/UrbanSound/data/'\n",
        "\n",
        "# the tuple of sound types\n",
        "sound_types = ('*.wav', '*.mp3','*.flac','*.aif','*.aiff','*.ogg') \n",
        "      \n",
        "csv_dict= {}\n",
        "json_dict ={}\n",
        "filename_dict ={}\n",
        "sound_dict ={}\n",
        "#List of\n",
        "for label in class_labels:\n",
        "  os.chdir(path+label)\n",
        "  csv_list = glob.glob('*.{}'.format('csv'))\n",
        "  csv_dict[label] = sorted(csv_list)\n",
        "  json_list = glob.glob('*.{}'.format('json'))\n",
        "  json_dict[label] = sorted(json_list)\n",
        "  filename_dict[label] = list(map(lambda each:each.strip(\".csv\"), csv_list))\n",
        "  files_grabbed = []\n",
        "  for files in sound_types:\n",
        "    files_grabbed.extend(glob.glob(files))\n",
        "  sound_dict[label] = sorted(files_grabbed)\n",
        "\n",
        "print(filename_dict['air_conditioner'])\n",
        "print(csv_dict['air_conditioner'])\n",
        "print(json_dict['air_conditioner'])\n",
        "print(sound_dict['air_conditioner'])"
      ],
      "execution_count": 24,
      "outputs": [
        {
          "output_type": "stream",
          "text": [
            "['100852', '101729', '121285', '121286', '119067', '13230', '127872', '127873', '134717', '146690', '146709', '146714', '146845', '147926', '151977', '153261', '159761', '165454', '162103', '167464', '166942', '170022', '170245', '177621', '177726', '177729', '177742', '178686', '184805', '189023', '185709', '189981', '189982', '189987', '189985', '189988', '189986', '189989', '189991', '195969', '202516', '202517', '204240', '35382', '30204', '50901', '55018', '47160', '54383', '57320', '56385', '58806', '60846', '59277', '62461', '63724', '73524', '74507', '74677', '75743', '79089', '83502', '80589', '85569']\n",
            "['100852.csv', '101729.csv', '119067.csv', '121285.csv', '121286.csv', '127872.csv', '127873.csv', '13230.csv', '134717.csv', '146690.csv', '146709.csv', '146714.csv', '146845.csv', '147926.csv', '151977.csv', '153261.csv', '159761.csv', '162103.csv', '165454.csv', '166942.csv', '167464.csv', '170022.csv', '170245.csv', '177621.csv', '177726.csv', '177729.csv', '177742.csv', '178686.csv', '184805.csv', '185709.csv', '189023.csv', '189981.csv', '189982.csv', '189985.csv', '189986.csv', '189987.csv', '189988.csv', '189989.csv', '189991.csv', '195969.csv', '202516.csv', '202517.csv', '204240.csv', '30204.csv', '35382.csv', '47160.csv', '50901.csv', '54383.csv', '55018.csv', '56385.csv', '57320.csv', '58806.csv', '59277.csv', '60846.csv', '62461.csv', '63724.csv', '73524.csv', '74507.csv', '74677.csv', '75743.csv', '79089.csv', '80589.csv', '83502.csv', '85569.csv']\n",
            "['100852.json', '101729.json', '119067.json', '121285.json', '121286.json', '127872.json', '127873.json', '13230.json', '134717.json', '146690.json', '146709.json', '146714.json', '146845.json', '147926.json', '151977.json', '153261.json', '159761.json', '162103.json', '165454.json', '166942.json', '167464.json', '170022.json', '170245.json', '177621.json', '177726.json', '177729.json', '177742.json', '178686.json', '184805.json', '185709.json', '189023.json', '189981.json', '189982.json', '189985.json', '189986.json', '189987.json', '189988.json', '189989.json', '189991.json', '195969.json', '202516.json', '202517.json', '204240.json', '30204.json', '35382.json', '47160.json', '50901.json', '54383.json', '55018.json', '56385.json', '57320.json', '58806.json', '59277.json', '60846.json', '62461.json', '63724.json', '73524.json', '74507.json', '74677.json', '75743.json', '79089.json', '80589.json', '83502.json', '85569.json']\n",
            "['100852.mp3', '101729.wav', '119067.aif', '121285.wav', '121286.wav', '127872.wav', '127873.wav', '13230.mp3', '134717.wav', '146690.wav', '146709.wav', '146714.wav', '146845.wav', '147926.wav', '151977.wav', '153261.wav', '159761.aiff', '162103.wav', '165454.wav', '166942.wav', '167464.wav', '170022.mp3', '170245.wav', '177621.flac', '177726.flac', '177729.flac', '177742.flac', '178686.wav', '184805.mp3', '185709.wav', '189023.wav', '189981.flac', '189982.flac', '189985.flac', '189986.flac', '189987.flac', '189988.flac', '189989.flac', '189991.flac', '195969.wav', '202516.wav', '202517.wav', '204240.wav', '30204.wav', '35382.wav', '47160.wav', '50901.wav', '54383.mp3', '55018.mp3', '56385.wav', '57320.wav', '58806.mp3', '59277.mp3', '60846.wav', '62461.wav', '63724.wav', '73524.wav', '74507.wav', '74677.mp3', '75743.mp3', '79089.wav', '80589.wav', '83502.wav', '85569.aif']\n"
          ],
          "name": "stdout"
        }
      ]
    },
    {
      "cell_type": "code",
      "metadata": {
        "id": "_c0h_kIMCYK9",
        "colab_type": "code",
        "outputId": "26e70503-f5d9-4afa-e79b-8a68f452340f",
        "colab": {
          "base_uri": "https://localhost:8080/",
          "height": 34
        }
      },
      "source": [
        "cd /content/drive/Shared\\ drives/ELE888_Syeda/UrbanSound/data/"
      ],
      "execution_count": 26,
      "outputs": [
        {
          "output_type": "stream",
          "text": [
            "/content/drive/Shared drives/ELE888_Syeda/UrbanSound/data\n"
          ],
          "name": "stdout"
        }
      ]
    },
    {
      "cell_type": "code",
      "metadata": {
        "id": "t0oHbkkWBuD6",
        "colab_type": "code",
        "colab": {}
      },
      "source": [
        "#storing file names in json files\n",
        "json.dump( sound_dict, open( \"sound_dict.json\", 'w' ) )\n",
        "json.dump( csv_dict, open( \"csv_dict.json\", 'w' ) )\n",
        "json.dump( json_dict, open( \"json_dict.json\", 'w' ) )\n",
        "json.dump( filename_dict, open( \"filename_dict.json\", 'w' ) )"
      ],
      "execution_count": 0,
      "outputs": []
    },
    {
      "cell_type": "code",
      "metadata": {
        "id": "yHyIpSl-CHTz",
        "colab_type": "code",
        "outputId": "bcb63c4e-bf8f-4058-b9e0-958389df1cee",
        "colab": {
          "base_uri": "https://localhost:8080/",
          "height": 85
        }
      },
      "source": [
        "!ls\n",
        "#rm sound_dict.json csv_dict.json json_dict.json filename_dict.json"
      ],
      "execution_count": 0,
      "outputs": [
        {
          "output_type": "stream",
          "text": [
            "air_conditioner   dog_bark\t      gun_shot\t      sound_dict.json\n",
            "car_horn\t  drilling\t      jackhammer      street_music\n",
            "children_playing  engine_idling       json_dict.json  street_music.tar\n",
            "csv_dict.json\t  filename_dict.json  siren\n"
          ],
          "name": "stdout"
        }
      ]
    },
    {
      "cell_type": "code",
      "metadata": {
        "id": "jFIHJXmyJg2H",
        "colab_type": "code",
        "outputId": "f39702f2-fa3d-4b00-e1e5-67f632daf8ca",
        "colab": {
          "base_uri": "https://localhost:8080/",
          "height": 54
        }
      },
      "source": [
        "\"\"\"\n",
        "path = '/content/drive/Shared drives/ELE888_Syeda/UrbanSound/mfcc/'\n",
        "\n",
        "# the tuple of image types\n",
        "#image_type = ('*.png') \n",
        "\n",
        "for label in class_labels:\n",
        "  names_list = filename_dict[label]\n",
        "  for name in names_list:\n",
        "    mfcc_dict[name] =list()\n",
        "\n",
        "print(mfcc_dict)\n",
        "\n",
        "#print(mfcc_dict['100852'])\n",
        "#List of\n",
        "for label in class_labels:\n",
        "  os.chdir(path+label)\n",
        "  \n",
        "  file_keys = filename_dict[label]\n",
        "  img_list = glob.glob('*.{}'.format('png'))\n",
        "  \n",
        "  for i in img_list:\n",
        "    for key in file_keys:\n",
        "      if (key == i.split(\"-\")[2]):\n",
        "        a = mfcc_dict[key]\n",
        "        a.append(i)\n",
        "        mfcc_dict[key] = a\n",
        "\n",
        "print(mfcc_dict['100852'])\n",
        "\"\"\""
      ],
      "execution_count": 29,
      "outputs": [
        {
          "output_type": "execute_result",
          "data": {
            "text/plain": [
              "'\\npath = \\'/content/drive/Shared drives/ELE888_Syeda/UrbanSound/mfcc/\\'\\n\\n# the tuple of image types\\n#image_type = (\\'*.png\\') \\n\\nfor label in class_labels:\\n  names_list = filename_dict[label]\\n  for name in names_list:\\n    mfcc_dict[name] =list()\\n\\nprint(mfcc_dict)\\n\\n#print(mfcc_dict[\\'100852\\'])\\n#List of\\nfor label in class_labels:\\n  os.chdir(path+label)\\n  \\n  file_keys = filename_dict[label]\\n  img_list = glob.glob(\\'*.{}\\'.format(\\'png\\'))\\n  \\n  for i in img_list:\\n    for key in file_keys:\\n      if (key == i.split(\"-\")[2]):\\n        a = mfcc_dict[key]\\n        a.append(i)\\n        mfcc_dict[key] = a\\n\\nprint(mfcc_dict[\\'100852\\'])\\n'"
            ]
          },
          "metadata": {
            "tags": []
          },
          "execution_count": 29
        }
      ]
    },
    {
      "cell_type": "code",
      "metadata": {
        "id": "EpMZwCsGSgfV",
        "colab_type": "code",
        "outputId": "a65c03f2-6f8d-427e-ff6a-43f879d7a972",
        "colab": {
          "base_uri": "https://localhost:8080/",
          "height": 34
        }
      },
      "source": [
        "\"\"\"\n",
        "sum =0\n",
        "for k, v in mfcc_dict.items():\n",
        "\t    sum=sum+len(v)\n",
        "print(sum)\n",
        "\"\"\""
      ],
      "execution_count": 30,
      "outputs": [
        {
          "output_type": "execute_result",
          "data": {
            "text/plain": [
              "'\\nsum =0\\nfor k, v in mfcc_dict.items():\\n\\t    sum=sum+len(v)\\nprint(sum)\\n'"
            ]
          },
          "metadata": {
            "tags": []
          },
          "execution_count": 30
        }
      ]
    },
    {
      "cell_type": "code",
      "metadata": {
        "id": "L1DMpzH9V8sA",
        "colab_type": "code",
        "outputId": "81f598cd-783a-485b-ecba-0cc89bd0a6be",
        "colab": {
          "base_uri": "https://localhost:8080/",
          "height": 34
        }
      },
      "source": [
        "#print(mfcc_dict['172314'])"
      ],
      "execution_count": 0,
      "outputs": [
        {
          "output_type": "stream",
          "text": [
            "[]\n"
          ],
          "name": "stdout"
        }
      ]
    },
    {
      "cell_type": "code",
      "metadata": {
        "id": "LI2ni9dgMBQz",
        "colab_type": "code",
        "outputId": "4308d132-68ae-470e-8c8e-2f723bcabab9",
        "colab": {
          "base_uri": "https://localhost:8080/",
          "height": 34
        }
      },
      "source": [
        "path = \"dri_lling-mfcc-63095-094.8539-096.8539.png\"\n",
        "filename = path.split(\"-\")[2]\n",
        "filename"
      ],
      "execution_count": 31,
      "outputs": [
        {
          "output_type": "execute_result",
          "data": {
            "text/plain": [
              "'63095'"
            ]
          },
          "metadata": {
            "tags": []
          },
          "execution_count": 31
        }
      ]
    }
  ]
}